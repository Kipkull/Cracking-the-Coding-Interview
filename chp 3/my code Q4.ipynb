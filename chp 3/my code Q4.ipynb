{
 "metadata": {
  "name": "",
  "signature": "sha256:58ca38023bd06a2c6419fc378d65ddf4d53da44f8e08fa6e60838b8ed68aa91e"
 },
 "nbformat": 3,
 "nbformat_minor": 0,
 "worksheets": [
  {
   "cells": [
    {
     "cell_type": "code",
     "collapsed": false,
     "input": [
      "class mystack:\n",
      "    def __init__(self):\n",
      "        self.storage = []\n",
      "\n",
      "    def __str__(self):\n",
      "        rowstring = ''\n",
      "        rowstring = rowstring + '['\n",
      "        for i in range(len(self.storage)):\n",
      "                rowstring = rowstring + str(self.storage[i]) + ' '\n",
      "        rowstring = rowstring +']\\n'\n",
      "        return rowstring \n",
      "    \n",
      "    def __getitem__(self, ind):\n",
      "        return self.storage[ind]\n",
      "        \n",
      "    def push(self, value):\n",
      "        self.storage.append(value)\n",
      "        \n",
      "    def pop(self):\n",
      "        if len(self.storage) == 0:\n",
      "            return \"Empty\"\n",
      "        return self.storage.pop()\n",
      "    \n",
      "class hanoiTower:\n",
      "    def __init__(self, dishnum):\n",
      "        self.poles = []\n",
      "        for i in range(3):\n",
      "            a = mystack()\n",
      "            self.poles.append(a)\n",
      "        for j in range(dishnum, 0, -1):\n",
      "            self.poles[0].push(j)\n",
      "            \n",
      "    def __str__(self):\n",
      "        rowstring = ''\n",
      "        for i in range(3):\n",
      "            rowstring = rowstring + '['\n",
      "            for vl in self.poles[i]:\n",
      "                rowstring = rowstring + str(vl) + ' '\n",
      "            rowstring = rowstring +']\\n'\n",
      "        return rowstring\n",
      "    \n",
      "    def __getitem__(self, ind):\n",
      "        return self.poles[ind]\n",
      "    \n",
      "def moveTower(height, fr, to, md, setofstacks):\n",
      "    if height == 1:\n",
      "        setofstacks[to].push(setofstacks[fr].pop())\n",
      "        print setofstacks\n",
      "    else:\n",
      "        moveTower(height-1, fr, md, to, setofstacks)\n",
      "        setofstacks[to].push(setofstacks[fr].pop())\n",
      "        print setofstacks\n",
      "        moveTower(height-1, md, to, fr,setofstacks)"
     ],
     "language": "python",
     "metadata": {},
     "outputs": [],
     "prompt_number": 44
    },
    {
     "cell_type": "code",
     "collapsed": false,
     "input": [
      "\n",
      "towers = hanoiTower(5)\n",
      "print towers\n",
      "moveTower(5, 0, 2, 1, towers)"
     ],
     "language": "python",
     "metadata": {},
     "outputs": [
      {
       "ename": "AttributeError",
       "evalue": "hanoiTower instance has no attribute 'dishnum'",
       "output_type": "pyerr",
       "traceback": [
        "\u001b[0;31m---------------------------------------------------------------------------\u001b[0m\n\u001b[0;31mAttributeError\u001b[0m                            Traceback (most recent call last)",
        "\u001b[0;32m<ipython-input-46-30002d132e08>\u001b[0m in \u001b[0;36m<module>\u001b[0;34m()\u001b[0m\n\u001b[1;32m      1\u001b[0m \u001b[0;34m\u001b[0m\u001b[0m\n\u001b[1;32m      2\u001b[0m \u001b[0mtowers\u001b[0m \u001b[0;34m=\u001b[0m \u001b[0mhanoiTower\u001b[0m\u001b[0;34m(\u001b[0m\u001b[0;36m5\u001b[0m\u001b[0;34m)\u001b[0m\u001b[0;34m\u001b[0m\u001b[0m\n\u001b[0;32m----> 3\u001b[0;31m \u001b[0;32mprint\u001b[0m \u001b[0mtowers\u001b[0m\u001b[0;34m.\u001b[0m\u001b[0mdishnum\u001b[0m\u001b[0;34m\u001b[0m\u001b[0m\n\u001b[0m\u001b[1;32m      4\u001b[0m \u001b[0;32mprint\u001b[0m \u001b[0mtowers\u001b[0m\u001b[0;34m\u001b[0m\u001b[0m\n\u001b[1;32m      5\u001b[0m \u001b[0mmoveTower\u001b[0m\u001b[0;34m(\u001b[0m\u001b[0;36m5\u001b[0m\u001b[0;34m,\u001b[0m \u001b[0;36m0\u001b[0m\u001b[0;34m,\u001b[0m \u001b[0;36m2\u001b[0m\u001b[0;34m,\u001b[0m \u001b[0;36m1\u001b[0m\u001b[0;34m,\u001b[0m \u001b[0mtowers\u001b[0m\u001b[0;34m)\u001b[0m\u001b[0;34m\u001b[0m\u001b[0m\n",
        "\u001b[0;31mAttributeError\u001b[0m: hanoiTower instance has no attribute 'dishnum'"
       ]
      }
     ],
     "prompt_number": 46
    },
    {
     "cell_type": "code",
     "collapsed": false,
     "input": [],
     "language": "python",
     "metadata": {},
     "outputs": []
    }
   ],
   "metadata": {}
  }
 ]
}