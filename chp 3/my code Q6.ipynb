{
 "metadata": {
  "name": "",
  "signature": "sha256:e9e8dab6851c90126b0b0cf1cdd12d2cb2e81bf3d2212a2cb80e8e3946a88ef4"
 },
 "nbformat": 3,
 "nbformat_minor": 0,
 "worksheets": [
  {
   "cells": [
    {
     "cell_type": "code",
     "collapsed": false,
     "input": [
      "class myStack:\n",
      "    def __init__(self):\n",
      "        self.storage = []\n",
      "\n",
      "    def __str__(self):\n",
      "        rowstring = ''\n",
      "        rowstring = rowstring + '['\n",
      "        for i in range(len(self.storage)):\n",
      "                rowstring = rowstring + str(self.storage[i]) + ' '\n",
      "        rowstring = rowstring +']\\n'\n",
      "        return rowstring \n",
      "    \n",
      "    def __getitem__(self, ind):\n",
      "        return self.storage[ind]\n",
      "        \n",
      "    def push(self, value):\n",
      "        self.storage.append(value)\n",
      "        \n",
      "    def pop(self):\n",
      "        if len(self.storage) == 0:\n",
      "            return \"Empty\"\n",
      "        return self.storage.pop()\n",
      "    \n",
      "    def peak(self):\n",
      "        if self.isEmpty():\n",
      "            return None\n",
      "        return self.storage[-1]\n",
      "    \n",
      "    def length(self):\n",
      "        return len(self.storage)\n",
      "    \n",
      "    def isEmpty(self):\n",
      "        return len(self.storage) == 0\n",
      "    \n",
      "    def sortStack(self):\n",
      "        helper = []\n",
      "        while not self.isEmpty():\n",
      "            tmp = self.pop()\n",
      "            while not len(helper)==0 and helper[-1] > tmp:\n",
      "                self.push(helper.pop())\n",
      "            helper.append(tmp)\n",
      "            while not self.isEmpty() and self.peak() > helper[-1]:\n",
      "                helper.append(self.pop())\n",
      "        self.storage = helper\n",
      "            "
     ],
     "language": "python",
     "metadata": {},
     "outputs": [],
     "prompt_number": 37
    },
    {
     "cell_type": "code",
     "collapsed": false,
     "input": [
      "#testing\n",
      "from random import randrange\n",
      "test_items = [randrange(20) for x in xrange(20)]\n",
      "print test_items\n",
      "S = myStack()\n",
      "\n",
      "for item in test_items:\n",
      "\tS.push(item)\n",
      "S.sortStack()\n",
      "\n",
      "print S\n",
      "print S.length()"
     ],
     "language": "python",
     "metadata": {},
     "outputs": [
      {
       "output_type": "stream",
       "stream": "stdout",
       "text": [
        "[11, 3, 8, 8, 13, 3, 3, 18, 18, 5, 10, 7, 11, 5, 7, 10, 5, 17, 9, 18]\n",
        "[3 3 3 5 5 5 7 7 8 8 9 10 10 11 11 13 17 18 18 18 ]\n",
        "\n",
        "20\n"
       ]
      }
     ],
     "prompt_number": 41
    }
   ],
   "metadata": {}
  }
 ]
}