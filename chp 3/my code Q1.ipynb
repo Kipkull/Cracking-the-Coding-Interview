{
 "metadata": {
  "name": "",
  "signature": "sha256:cb460943b14995e2104261095e29ab1f2477d60feaa084b0d36a6926fccb94b8"
 },
 "nbformat": 3,
 "nbformat_minor": 0,
 "worksheets": [
  {
   "cells": [
    {
     "cell_type": "code",
     "collapsed": false,
     "input": [
      "class SingleArrayStacks(object):\n",
      "\n",
      "    def __init__(self, stacksize = 100, number = 3):\n",
      "        self.stacksize = stacksize\n",
      "        self.number = number\n",
      "        self.array = [None] * self.stacksize * self.number\n",
      "        self.pointer = [-1] * self.number\n",
      "\n",
      "    def push(self, stacknum, value):\n",
      "        if self.pointer[stacknum] + 1 >= self.stacksize:\n",
      "            print \"Out of space\"\n",
      "        else:\n",
      "            self.pointer[stacknum] += 1\n",
      "            self.array[self.stacktop(stacknum)] = value\n",
      "\n",
      "    def pop(self, stacknum):\n",
      "        if self.pointer[stacknum] < 0:\n",
      "            return \"Trying to pop an empty stack.\"\n",
      "        else:\n",
      "            data = self.array[self.stacktop(stacknum)]\n",
      "            self.array[self.stacktop(stacknum)] = None\n",
      "            self.pointer[stacknum] -= 1\n",
      "            return data\n",
      "\n",
      "    def peek(self, stacknum):\n",
      "        if self.pointer[stacknum] < 0:\n",
      "            print \"Empty stack\"\n",
      "        else:\n",
      "            return self.array[self.stacktop(stacknum)]\n",
      "\n",
      "    def isEmpty(self, stacknum):\n",
      "        return self.pointer[stacknum] == -1\n",
      "\n",
      "    def stacktop(self, stacknum):\n",
      "        return self.stacksize * stacknum + self.pointer[stacknum]"
     ],
     "language": "python",
     "metadata": {},
     "outputs": []
    },
    {
     "cell_type": "code",
     "collapsed": false,
     "input": [
      "class grpStacks:\n",
      "    def __init__(self, stacksize, stacknum):\n",
      "        self.stacksize = stacksize\n",
      "        self.stacknum = stacknum\n",
      "        self.array = [None]*self.stacksize*self.stacknum\n",
      "        self.pointer = [-1]*self.stacknum\n",
      "        \n",
      "    def push(self, stacknum, value):\n",
      "        if self.pointer[stacknum]+1 > self.stacksize:\n",
      "            print \"Stack %d is out of space\" %(stacknum)\n",
      "        else:\n",
      "            self.pointer[stacknum] += 1\n",
      "            self.array[self.stacktop[stacknum]] = value\n",
      "            \n",
      "    def pop(self, stacknum):\n",
      "        if self.pointer[stacknum] == -1:\n",
      "            return \"Stack %d is empty\" %(stacknum)\n",
      "        else:\n",
      "            data = self.array[self.stacktop(stacknum)]\n",
      "            self.array[self.stacktop(stacknum)] = None\n",
      "            self.pointer[stacknum] -=1\n",
      "            return data\n",
      "            \n",
      "    def peek(self, stacknum):\n",
      "        if self.pointer[stacknum] == -1:\n",
      "            return \"Stack %d is empty\" %(stacknum)\n",
      "        else:\n",
      "            return self.array[self.stacktop(stacknum)]\n",
      "        \n",
      "    def stacktop(self, stacknum):\n",
      "        return self.stacksize * stacknum + self.pointer[stacknum]"
     ],
     "language": "python",
     "metadata": {},
     "outputs": []
    }
   ],
   "metadata": {}
  }
 ]
}