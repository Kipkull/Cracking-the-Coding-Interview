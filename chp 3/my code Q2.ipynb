{
 "metadata": {
  "name": "",
  "signature": "sha256:a8d2544c2633ff8cb8f279ebc33cf0de98330d28f478b8bc973d838161b0dd65"
 },
 "nbformat": 3,
 "nbformat_minor": 0,
 "worksheets": [
  {
   "cells": [
    {
     "cell_type": "code",
     "collapsed": false,
     "input": [
      "class mystack:\n",
      "    def __init__(self):\n",
      "        self.storage = []\n",
      "    \n",
      "    def push(self, value):\n",
      "        if len(self.storage) == 0 or self.storage[-1][1] > value:\n",
      "            self.storage.append((value, value))\n",
      "        else:\n",
      "            themin = self.storage[-1][1]\n",
      "            self.storage.append((value, themin))\n",
      "    \n",
      "    def pop(self):\n",
      "        if len(self.storage) == 0:\n",
      "            return \"Empty stack\"\n",
      "        else:\n",
      "            getout = self.storage.pop()\n",
      "            return getout[0]\n",
      "        \n",
      "    def peek(self):\n",
      "        if len(self.storage) == 0:\n",
      "            return \"Empty stack\"\n",
      "        else:\n",
      "            return self.storage[-1][0]\n",
      "        \n",
      "    def getmin(self):\n",
      "        if len(self.storage) == 0:\n",
      "            return \"Empty stack\"\n",
      "        else:\n",
      "            return self.storage[-1][1]"
     ],
     "language": "python",
     "metadata": {},
     "outputs": [],
     "prompt_number": 7
    },
    {
     "cell_type": "code",
     "collapsed": false,
     "input": [
      "# Testing\n",
      "from random import randrange\n",
      "S1 = mystack()\n",
      "#S2 = StackWithMin2()\n",
      "test_list = [randrange(100) for x in xrange(10)]\n",
      "for num in test_list:\n",
      "\tS1.push(num)\n",
      "#\tS2.push(num)\n",
      "\tprint num, \n",
      "print \"\"\n",
      "for i in xrange(len(test_list)):\n",
      "\tprint \"new pop\", S1.pop()#, S2.pop()\n",
      "\tprint \"new min\", S1.getmin()#, S2.get_min()"
     ],
     "language": "python",
     "metadata": {},
     "outputs": [
      {
       "output_type": "stream",
       "stream": "stdout",
       "text": [
        "96 83 27 36 33 45 25 89 29 42 \n",
        "new pop 42\n",
        "new min 25\n",
        "new pop 29\n",
        "new min 25\n",
        "new pop 89\n",
        "new min 25\n",
        "new pop 25\n",
        "new min 27\n",
        "new pop 45\n",
        "new min 27\n",
        "new pop 33\n",
        "new min 27\n",
        "new pop 36\n",
        "new min 27\n",
        "new pop 27\n",
        "new min 83\n",
        "new pop 83\n",
        "new min 96\n",
        "new pop 96\n",
        "new min Empty stack\n"
       ]
      }
     ],
     "prompt_number": 8
    },
    {
     "cell_type": "code",
     "collapsed": false,
     "input": [],
     "language": "python",
     "metadata": {},
     "outputs": []
    }
   ],
   "metadata": {}
  }
 ]
}