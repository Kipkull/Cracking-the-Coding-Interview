{
 "metadata": {
  "name": "",
  "signature": "sha256:877b9a0c605cc060cdc33251a1dcd7c405a4df58ad65602340e6cbf8ae5aecea"
 },
 "nbformat": 3,
 "nbformat_minor": 0,
 "worksheets": [
  {
   "cells": [
    {
     "cell_type": "code",
     "collapsed": false,
     "input": [
      "def findSum(anode, depth, givenSum, pathlist, tmplist):\n",
      "\n",
      "    if len(tmplist) == depth-1:\n",
      "        tmplist.append(anode.content)\n",
      "    else:\n",
      "        tmplist[depth-1] = anode.content\n",
      "\n",
      "    for i in range(depth):\n",
      "        if sum(tmplist[i:depth]) == givenSum:\n",
      "            print tmplist[i:depth]\n",
      "            pathlist.append(tmplist[i:depth])\n",
      "    \n",
      "    if anode.left != None:\n",
      "        findSum(anode.left, depth+1, givenSum, pathlist, tmplist)\n",
      "        \n",
      "    if anode.right != None:\n",
      "        findSum(anode.right, depth+1, givenSum, pathlist, tmplist)\n",
      "\n",
      "def sum_path_search(atree, giveSum):\n",
      "    if atree == None:\n",
      "        return None\n",
      "    depth = 1\n",
      "    pathlist = []\n",
      "    tmplist = []\n",
      "    findSum(atree, depth, givenSum, pathlist, tmplist)\n",
      "    \n",
      "    return pathlist\n",
      "\n",
      "    "
     ],
     "language": "python",
     "metadata": {},
     "outputs": [],
     "prompt_number": 15
    },
    {
     "cell_type": "code",
     "collapsed": false,
     "input": [
      "#building testcases\n",
      "import random\n",
      "\n",
      "#binary tree python\n",
      "class BinaryTree:\n",
      "    def __init__(self, content):\n",
      "        self.content = content\n",
      "        self.left = None\n",
      "        self.right = None\n",
      "        self.hash = None\n",
      "        self.children = -1\n",
      "\n",
      "    def __str__(self):\n",
      "        return \"( \" + str(self.content) + \" ( \" + str(self.left) + \" | \" + str(self.right) + \"))\" \n",
      "    \n",
      "def make_random_balanced_tree(depth):\n",
      "    if depth>0:\n",
      "        tree = BinaryTree(random.randint(0, 100))\n",
      "        tree.left=make_random_balanced_tree(depth-1)\n",
      "        tree.right=make_random_balanced_tree(depth-1)\n",
      "        return tree\n",
      "    else:\n",
      "        return None"
     ],
     "language": "python",
     "metadata": {},
     "outputs": [],
     "prompt_number": 25
    },
    {
     "cell_type": "code",
     "collapsed": false,
     "input": [
      "\n",
      "if __name__ == '__main__':\n",
      "    givenSum = 7\n",
      "    atree =  BinaryTree(1)\n",
      "    atree.left = BinaryTree(2)\n",
      "    atree.right = BinaryTree(3)\n",
      "    atree.left.left = BinaryTree(4)\n",
      "    atree.left.right = BinaryTree(5)\n",
      "    atree.left.right.left = BinaryTree(7)\n",
      "    atree.right.left = BinaryTree(3)\n",
      "    atree.right.right = BinaryTree(4)\n",
      "    print atree\n",
      "    print givenSum\n",
      "    sum_path_search(atree, givenSum)\n",
      "    \n",
      "    print 'random test'\n",
      "    \n",
      "    givenSum = random.randrange(100, 200)\n",
      "    atree = make_random_balanced_tree(4)\n",
      "    \n",
      "    print givenSum\n",
      "    print atree\n",
      "    sum_path_search(atree, givenSum)\n",
      "    \n",
      "    "
     ],
     "language": "python",
     "metadata": {},
     "outputs": [
      {
       "output_type": "stream",
       "stream": "stdout",
       "text": [
        "( 1 ( ( 2 ( ( 4 ( None | None)) | ( 5 ( ( 7 ( None | None)) | None)))) | ( 3 ( ( 3 ( None | None)) | ( 4 ( None | None))))))\n",
        "7\n",
        "[1, 2, 4]\n",
        "[2, 5]\n",
        "[7]\n",
        "[1, 3, 3]\n",
        "[3, 4]\n",
        "random test\n",
        "125\n",
        "( 48 ( ( 79 ( ( 62 ( ( 6 ( None | None)) | ( 16 ( None | None)))) | ( 34 ( ( 90 ( None | None)) | ( 60 ( None | None)))))) | ( 13 ( ( 10 ( ( 86 ( None | None)) | ( 17 ( None | None)))) | ( 69 ( ( 14 ( None | None)) | ( 52 ( None | None))))))))\n"
       ]
      }
     ],
     "prompt_number": 26
    },
    {
     "cell_type": "code",
     "collapsed": false,
     "input": [],
     "language": "python",
     "metadata": {},
     "outputs": [],
     "prompt_number": 20
    },
    {
     "cell_type": "code",
     "collapsed": false,
     "input": [],
     "language": "python",
     "metadata": {},
     "outputs": []
    }
   ],
   "metadata": {}
  }
 ]
}