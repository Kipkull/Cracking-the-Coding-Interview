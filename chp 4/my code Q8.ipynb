{
 "metadata": {
  "name": "",
  "signature": "sha256:eff2a47f85c644456a0fd0f559e33f4a2cf25a1f9fe67d882eab1df89536dddd"
 },
 "nbformat": 3,
 "nbformat_minor": 0,
 "worksheets": [
  {
   "cells": [
    {
     "cell_type": "code",
     "collapsed": false,
     "input": [
      "def checkSubtree(atree, btree):\n",
      "    if atree == None and btree == None:\n",
      "        return True\n",
      "    elif atree == None or btree == None:\n",
      "        return False\n",
      "    if atree.content == btree.content:\n",
      "        if (checkSubtree(atree.left, btree.left) and checkSubtree(atree.right, btree.right)):\n",
      "            return True\n",
      "    else:\n",
      "        return checkSubtree(atree.left, btree) or checkSubtree(atree.right, btree)\n",
      "    \n",
      "def count_children(tree1):\n",
      "    left=0\n",
      "    if tree1.left != None:\n",
      "        left = count_children(tree1.left)\n",
      "    right=0\n",
      "    if tree1.right != None:\n",
      "        right = count_children(tree1.right)\n",
      "    tree1.children=1+right+left\n",
      "    return 1+right+left\n",
      "            "
     ],
     "language": "python",
     "metadata": {},
     "outputs": [],
     "prompt_number": 9
    },
    {
     "cell_type": "code",
     "collapsed": false,
     "input": [
      "#building testcases\n",
      "import random\n",
      "import time\n",
      "\n",
      "#binary tree python\n",
      "class BinaryTree:\n",
      "    def __init__(self, content):\n",
      "        self.content = content\n",
      "        self.left = None\n",
      "        self.right = None\n",
      "        self.hash = None\n",
      "        self.children = -1\n",
      "\n",
      "    def __str__(self):\n",
      "        return \"( \" + str(self.content) + \" ( \" + str(self.left) + \" | \" + str(self.right) + \"))\" \n",
      "    \n",
      "def make_random_balanced_tree(depth):\n",
      "    if depth>0:\n",
      "        tree = BinaryTree(random.randint(0, 100))\n",
      "        tree.left=make_random_balanced_tree(depth-1)\n",
      "        tree.right=make_random_balanced_tree(depth-1)\n",
      "        return tree\n",
      "    else:\n",
      "        return None\n",
      "\n",
      "balanced_tree = make_random_balanced_tree(19)\n",
      "sub_balanced_tree = balanced_tree.right.right.right\n",
      "\n",
      "\n",
      "#testing\n",
      "\n",
      "count_children(balanced_tree)\n",
      "count_children(sub_balanced_tree)\n",
      "\n",
      "print \"t1 children: \" + str(balanced_tree.children)\n",
      "print \"t2 children: \" + str(sub_balanced_tree.children)\n",
      "\n",
      "start=time.time()\n",
      "if checkSubtree(balanced_tree,sub_balanced_tree):\n",
      "    print \"Test case 1 passed\"\n",
      "timer=time.time()-start\n",
      "print \"Test case 1 time: \" + str(timer)\n",
      "start=time.time()\n",
      "if not checkSubtree(sub_balanced_tree,balanced_tree):\n",
      "    print \"Test case 2 passed\"\n",
      "timer2=time.time()-start\n",
      "print \"Test case 2 time: \" + str(timer2)\n",
      "\n",
      "\n",
      "balanced_tree = make_random_balanced_tree(20)\n",
      "sub_balanced_tree = balanced_tree.right.right.right\n",
      "count_children(balanced_tree)\n",
      "count_children(sub_balanced_tree)\n",
      "\n",
      "print \"t1 children: \" + str(balanced_tree.children)\n",
      "print \"t2 children: \" + str(sub_balanced_tree.children)\n",
      "\n",
      "start=time.time()\n",
      "if checkSubtree(balanced_tree,sub_balanced_tree):\n",
      "    print \"Test case 3 passed\"\n",
      "timer3=time.time()-start\n",
      "print \"Test case 3 time: \" + str(timer3)\n",
      "start=time.time()\n",
      "if not checkSubtree(sub_balanced_tree,balanced_tree):\n",
      "    print \"Test case 4 passed\"\n",
      "timer4=time.time()-start\n",
      "print \"Test case 4 time: \" + str(timer4)\n",
      "\n",
      "print \"Doubling size of input changed run time by a factor of \" + str(timer3/timer) \n",
      "\n",
      "#sample output\n",
      "##t1 children: 524287\n",
      "##t2 children: 65535\n",
      "##Test case 1 passed\n",
      "##Test case 1 time: 8.59500002861\n",
      "##Test case 2 passed\n",
      "##Test case 2 time: 1.12700009346\n",
      "##t1 children: 1048575\n",
      "##t2 children: 131071\n",
      "##Test case 3 passed\n",
      "##Test case 3 time: 17.9500000477\n",
      "##Test case 4 passed\n",
      "##Test case 4 time: 2.22199988365\n",
      "##Doubling size of input changed run time by a factor of 2.08842350063\n"
     ],
     "language": "python",
     "metadata": {},
     "outputs": [
      {
       "output_type": "stream",
       "stream": "stdout",
       "text": [
        "t1 children: 524287\n",
        "t2 children: 65535\n",
        "Test case 1 passed"
       ]
      },
      {
       "output_type": "stream",
       "stream": "stdout",
       "text": [
        "\n",
        "Test case 1 time: 2.51600408554\n",
        "Test case 2 passed"
       ]
      },
      {
       "output_type": "stream",
       "stream": "stdout",
       "text": [
        "\n",
        "Test case 2 time: 0.295526981354\n",
        "t1 children: 1048575"
       ]
      },
      {
       "output_type": "stream",
       "stream": "stdout",
       "text": [
        "\n",
        "t2 children: 131071\n",
        "Test case 3 passed"
       ]
      },
      {
       "output_type": "stream",
       "stream": "stdout",
       "text": [
        "\n",
        "Test case 3 time: 5.03165006638\n",
        "Test case 4 passed"
       ]
      },
      {
       "output_type": "stream",
       "stream": "stdout",
       "text": [
        "\n",
        "Test case 4 time: 0.622134923935\n",
        "Doubling size of input changed run time by a factor of 1.99985766927\n"
       ]
      }
     ],
     "prompt_number": 10
    },
    {
     "cell_type": "code",
     "collapsed": false,
     "input": [],
     "language": "python",
     "metadata": {},
     "outputs": []
    }
   ],
   "metadata": {}
  }
 ]
}