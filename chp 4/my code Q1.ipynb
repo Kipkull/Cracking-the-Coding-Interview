{
 "metadata": {
  "name": "",
  "signature": "sha256:d785d3f0d4759f69189dd0fe15daea088c2aabbc5e6c7d0baa671581f9bc3023"
 },
 "nbformat": 3,
 "nbformat_minor": 0,
 "worksheets": [
  {
   "cells": [
    {
     "cell_type": "code",
     "collapsed": false,
     "input": [
      "import random"
     ],
     "language": "python",
     "metadata": {},
     "outputs": [],
     "prompt_number": 1
    },
    {
     "cell_type": "code",
     "collapsed": false,
     "input": [
      "class binaryTree:\n",
      "    def __init__(self, content):\n",
      "        self.content= content\n",
      "        self.left = None\n",
      "        self.right = None\n",
      "        self.depth = -1\n",
      "        self.parent = None\n",
      "\n",
      "    def leftInsert(self, content):\n",
      "        if self.left == None:\n",
      "            self.left = binaryTress(content)\n",
      "            self.left.parent = self\n",
      "        else:\n",
      "            t = binaryTree(content)\n",
      "            t.parent = self\n",
      "            t.left = self.left\n",
      "            self.left.parent = t\n",
      "            self.left = t\n",
      "            \n",
      "    def rightInsert(self, content):\n",
      "        if self.right == None:\n",
      "            self.right = binaryTress(content)\n",
      "            self.right.parent = self\n",
      "        else:\n",
      "            t = binaryTree(content)\n",
      "            t.parent = self\n",
      "            t.right = self.right\n",
      "            self.right.parent = t\n",
      "            self.right = t\n",
      "            \n",
      "    def getleft(self):\n",
      "        return self.left\n",
      "    def getright(self):\n",
      "        return self.right\n",
      "    \n",
      "    def setRoot(self, content):\n",
      "        self.content = content\n",
      "    def getRoot(self, content):\n",
      "        return self.content\n",
      "    \n",
      "def isBalance(btree):\n",
      "    if btree == None:\n",
      "        return True\n",
      "    return (abs(getdepth(btree.left) - getdepth(btree.right)) <= 1) \\\n",
      "and isBalance(btree.left) and isBalance(btree.right)\n",
      "    \n",
      "def getdepth(btree):\n",
      "    if btree == None:\n",
      "        return 0\n",
      "    if btree.depth != -1:\n",
      "        return btree.depth\n",
      "    else:\n",
      "        btree.depth = max(getdepth(btree.left), getdepth(btree.right)) + 1\n",
      "        return btree.depth"
     ],
     "language": "python",
     "metadata": {},
     "outputs": [],
     "prompt_number": 63
    },
    {
     "cell_type": "code",
     "collapsed": false,
     "input": [
      "#Testing\n",
      "\n",
      "#building testcase 1\n",
      "bt = binaryTree(random.randint(0, 100))\n",
      "for c1 in xrange(0,19):\n",
      "    bt2 = binaryTree(random.randint(0, 100))\n",
      "    bt2.left = bt\n",
      "    bt=bt2\n",
      "\n",
      "unbalanced_tree=bt\n",
      "\n"
     ],
     "language": "python",
     "metadata": {},
     "outputs": [],
     "prompt_number": 64
    },
    {
     "cell_type": "code",
     "collapsed": false,
     "input": [
      "#building testcase 2\n",
      "def make_random_balanced_tree(depth):\n",
      "    if depth>0:\n",
      "        tree = binaryTree(random.randint(0, 100))\n",
      "        tree.left=make_random_balanced_tree(depth-1)\n",
      "        tree.right=make_random_balanced_tree(depth-1)\n",
      "        return tree\n",
      "    else:\n",
      "        return None\n",
      "\n",
      "balanced_tree = make_random_balanced_tree(5)\n",
      "\n"
     ],
     "language": "python",
     "metadata": {},
     "outputs": [],
     "prompt_number": 65
    },
    {
     "cell_type": "code",
     "collapsed": false,
     "input": [
      "#building testcase 3\n",
      "#using http://people.eecs.ku.edu/~miller/Courses/268/Materials/Trees/BalancedBinaryTreeHeight10.png\n",
      "#as an extreme case of a balanced tree that looks unbalanced.\n",
      "balanced_tree2 = binaryTree(random.randint(0, 100))\n",
      "balanced_tree2.left = binaryTree(random.randint(0, 100))\n",
      "balanced_tree2.left.right = binaryTree(random.randint(0, 100))\n",
      "balanced_tree2.right = binaryTree(random.randint(0, 100))\n",
      "balanced_tree2.right.left = binaryTree(random.randint(0, 100))\n",
      "balanced_tree2.right.right = binaryTree(random.randint(0, 100))\n",
      "balanced_tree2.right.right.right = binaryTree(random.randint(0, 100))\n",
      "\n"
     ],
     "language": "python",
     "metadata": {},
     "outputs": [],
     "prompt_number": 66
    },
    {
     "cell_type": "code",
     "collapsed": false,
     "input": [
      "#building testcase 4\n",
      "unbalanced_tree2 = binaryTree(random.randint(0, 100))\n",
      "unbalanced_tree2.left = binaryTree(random.randint(0, 100))\n",
      "unbalanced_tree2.left.right = binaryTree(random.randint(0, 100))\n",
      "unbalanced_tree2.right = binaryTree(random.randint(0, 100))\n",
      "unbalanced_tree2.right.left = binaryTree(random.randint(0, 100))\n",
      "unbalanced_tree2.right.right = binaryTree(random.randint(0, 100))\n",
      "unbalanced_tree2.right.right.right = binaryTree(random.randint(0, 100))\n",
      "#this unbalances it\n",
      "unbalanced_tree2.right.right.right.right = binaryTree(random.randint(0, 100))\n",
      "\n"
     ],
     "language": "python",
     "metadata": {},
     "outputs": [],
     "prompt_number": 67
    },
    {
     "cell_type": "code",
     "collapsed": false,
     "input": [
      "#building testcase 5\n",
      "unbalanced_tree3 = binaryTree(random.randint(0, 100))\n",
      "unbalanced_tree3.left = binaryTree(random.randint(0, 100))\n",
      "unbalanced_tree3.left.right = binaryTree(random.randint(0, 100))\n",
      "unbalanced_tree3.right = binaryTree(random.randint(0, 100))\n",
      "unbalanced_tree3.right.right = binaryTree(random.randint(0, 100))\n",
      "unbalanced_tree3.right.right.right = binaryTree(random.randint(0, 100))\n",
      "\n"
     ],
     "language": "python",
     "metadata": {},
     "outputs": [],
     "prompt_number": 68
    },
    {
     "cell_type": "code",
     "collapsed": false,
     "input": [
      "print isBalance(unbalanced_tree)\n",
      "print isBalance(balanced_tree)\n",
      "print isBalance(balanced_tree2)\n",
      "print isBalance(unbalanced_tree2)\n",
      "print isBalance(unbalanced_tree3)\n",
      "\n",
      "if not isBalance(unbalanced_tree):\n",
      "    print \"Test 1 passed\"\n",
      "else:\n",
      "    print \"Test 1 not passed\"\n",
      "if isBalance(balanced_tree):\n",
      "    print \"Test 2 passed\"\n",
      "else:\n",
      "    print \"Test 2 not passed\"\n",
      "if isBalance(balanced_tree2):\n",
      "    print \"Test 3 passed\"\n",
      "else:\n",
      "    print \"Test 3 not passed\"\n",
      "if not isBalance(unbalanced_tree2):\n",
      "    print \"Test 4 passed\"\n",
      "else:\n",
      "    print \"Test 4 not passed\"\n",
      "if not isBalance(unbalanced_tree3):\n",
      "    print \"Test 5 passed\"\n",
      "else:\n",
      "    print \"Test 5 not passed\""
     ],
     "language": "python",
     "metadata": {},
     "outputs": [
      {
       "output_type": "stream",
       "stream": "stdout",
       "text": [
        "False\n",
        "True\n",
        "True\n",
        "False\n",
        "False\n",
        "Test 1 passed\n",
        "Test 2 passed\n",
        "Test 3 passed\n",
        "Test 4 passed\n",
        "Test 5 passed\n"
       ]
      }
     ],
     "prompt_number": 72
    },
    {
     "cell_type": "code",
     "collapsed": false,
     "input": [],
     "language": "python",
     "metadata": {},
     "outputs": []
    }
   ],
   "metadata": {}
  }
 ]
}