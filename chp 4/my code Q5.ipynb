{
 "metadata": {
  "name": "",
  "signature": "sha256:e3533b9cddb428c1c69c00ae58f06d8205b662f332d70387f5688f396dce9655"
 },
 "nbformat": 3,
 "nbformat_minor": 0,
 "worksheets": [
  {
   "cells": [
    {
     "cell_type": "code",
     "collapsed": false,
     "input": [
      "class binaryTree:\n",
      "    def __init__(self, content, left=None, right=None):\n",
      "        self.content = content\n",
      "        self.left = left\n",
      "        self.right = right\n",
      "        \n",
      "    def __str__(self):\n",
      "        if self.content == None:\n",
      "            return 'None'\n",
      "        return '[' + str(self.content) + \\\n",
      "    ':[' + 'leftChild' + ':' + str(self.left) + ',' \\\n",
      "    'rightChild' + ':' + str(self.right) + ']]'"
     ],
     "language": "python",
     "metadata": {},
     "outputs": [],
     "prompt_number": 1
    },
    {
     "cell_type": "code",
     "collapsed": false,
     "input": [
      "def checkBST(atree):\n",
      "    flgl = True\n",
      "    flgr = True\n",
      "    if atree.left != None:\n",
      "        flgl = checkBST(atree.left) and atree.left.content < atree.content\n",
      "    if atree.right != None:\n",
      "        flgr = checkBST(atree.right) and atree.right.content >= atree.content ## should have '=' ?\n",
      "    return flgl and flgr"
     ],
     "language": "python",
     "metadata": {},
     "outputs": [],
     "prompt_number": 2
    },
    {
     "cell_type": "code",
     "collapsed": false,
     "input": [
      "from random import randrange\n",
      "\n",
      "def make_random_btree(depth = 3):\n",
      "\tif depth < 0: return None\n",
      "\ttree = binaryTree(randrange(10))\n",
      "\ttree.left = make_random_btree(depth - 1)\n",
      "\ttree.right = make_random_btree(depth - 1)\n",
      "\treturn tree\n",
      "\n",
      "def make_random_bsearch_tree(depth = 3, l = -10, r = 10):\n",
      "\tif depth < 0 or l == r: return None\n",
      "\ttree = binaryTree(randrange(l, r))\n",
      "\ttree.left = make_random_bsearch_tree(depth - 1, l, tree.content)\n",
      "\ttree.right = make_random_bsearch_tree(depth - 1, tree.content, r)\n",
      "\treturn tree\n",
      "\n",
      "tree1 = make_random_btree()\n",
      "tree2 = make_random_bsearch_tree()\n",
      "print checkBST(tree1)\n",
      "print checkBST(tree2)"
     ],
     "language": "python",
     "metadata": {},
     "outputs": [
      {
       "output_type": "stream",
       "stream": "stdout",
       "text": [
        "False\n",
        "True\n"
       ]
      }
     ],
     "prompt_number": 4
    },
    {
     "cell_type": "code",
     "collapsed": false,
     "input": [
      "def valid_bsearch_tree2(btree):\n",
      "\t#in-order method\n",
      "\tl = in_order_search(btree)\n",
      "\tif sorted(l) == l:\n",
      "\t\treturn True\n",
      "\treturn False\n",
      "\n",
      "def in_order_search(btree):\n",
      "\tif btree is None: return []\n",
      "\treturn in_order_search(btree.left) + [btree.content] + in_order_search(btree.right)\n",
      "\n",
      "\n"
     ],
     "language": "python",
     "metadata": {},
     "outputs": []
    }
   ],
   "metadata": {}
  }
 ]
}