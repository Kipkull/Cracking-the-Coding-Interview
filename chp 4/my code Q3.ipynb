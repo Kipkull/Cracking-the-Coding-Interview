{
 "metadata": {
  "name": "",
  "signature": "sha256:70ea5d507e14f035a09c3adc858955f913eb7bc9166ab5a76763a2fd3c732fbb"
 },
 "nbformat": 3,
 "nbformat_minor": 0,
 "worksheets": [
  {
   "cells": [
    {
     "cell_type": "code",
     "collapsed": false,
     "input": [
      "class binaryTree:\n",
      "    def __init__(self, content, left=None, right=None):\n",
      "        self.content = content\n",
      "        self.left = left\n",
      "        self.right = right\n",
      "        \n",
      "    def __str__(self):\n",
      "        if self.content == None:\n",
      "            return 'None'\n",
      "        return '[' + str(self.content) + \\\n",
      "    ':[' + 'leftChild' + ':' + str(self.left) + ',' \\\n",
      "    'rightChild' + ':' + str(self.right) + ']]'\n"
     ],
     "language": "python",
     "metadata": {},
     "outputs": [],
     "prompt_number": 8
    },
    {
     "cell_type": "code",
     "collapsed": false,
     "input": [
      "def easyBST(itera):\n",
      "    if len(itera) == 0:\n",
      "        return None\n",
      "    if len(itera) == 1:\n",
      "        return binaryTree(itera[0])\n",
      "    cutp = len(itera)/2\n",
      "    return binaryTree(itera[cutp], easyBST(itera[0:cutp]), easyBST(itera[cutp+1:]))\n"
     ],
     "language": "python",
     "metadata": {},
     "outputs": [],
     "prompt_number": 18
    },
    {
     "cell_type": "code",
     "collapsed": false,
     "input": [
      "intarray1=[1,2,3,4,5,6,7,8,9,10,12,15,18,22,43,144,515]\n",
      "intarray2=[1,2,3,4,5,6,7,8,9,10,12,15,18,22,43,144,515,4123]\n",
      "\n",
      "#print easyBST(intarray1)\n",
      "print easyBST(intarray2)"
     ],
     "language": "python",
     "metadata": {},
     "outputs": [
      {
       "output_type": "stream",
       "stream": "stdout",
       "text": [
        "[10:[leftChild:[5:[leftChild:[3:[leftChild:[2:[leftChild:[1:[leftChild:None,rightChild:None]],rightChild:None]],rightChild:[4:[leftChild:None,rightChild:None]]]],rightChild:[8:[leftChild:[7:[leftChild:[6:[leftChild:None,rightChild:None]],rightChild:None]],rightChild:[9:[leftChild:None,rightChild:None]]]]]],rightChild:[43:[leftChild:[18:[leftChild:[15:[leftChild:[12:[leftChild:None,rightChild:None]],rightChild:None]],rightChild:[22:[leftChild:None,rightChild:None]]]],rightChild:[515:[leftChild:[144:[leftChild:None,rightChild:None]],rightChild:[4123:[leftChild:None,rightChild:None]]]]]]]]\n"
       ]
      }
     ],
     "prompt_number": 21
    },
    {
     "cell_type": "code",
     "collapsed": false,
     "input": [],
     "language": "python",
     "metadata": {},
     "outputs": []
    }
   ],
   "metadata": {}
  }
 ]
}