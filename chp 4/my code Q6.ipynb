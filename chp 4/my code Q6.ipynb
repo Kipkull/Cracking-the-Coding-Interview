{
 "metadata": {
  "name": "",
  "signature": "sha256:db98f95096119b42b7bd7d90e07796055d61b437aea0322986a0c8f1cc8a03fc"
 },
 "nbformat": 3,
 "nbformat_minor": 0,
 "worksheets": [
  {
   "cells": [
    {
     "cell_type": "code",
     "collapsed": false,
     "input": [
      "def find_next_note(anote):\n",
      "    if anote is None: return None\n",
      "    if anote.right is not None:\n",
      "        index = anote.right\n",
      "        while index.left is not None:\n",
      "            index = index.left\n",
      "        return index\n",
      "    else:\n",
      "        index = anote.parent\n",
      "        while index is not None and index.content <= anote.content:\n",
      "            index = index.parent\n",
      "        return index\n",
      "\n",
      "def in_order_search(bstree):\n",
      "    if bstree != None:\n",
      "        print bstree.content\n",
      "        bstree = find_next_note(bstree)\n",
      "        in_order_search(bstree)\n",
      "        "
     ],
     "language": "python",
     "metadata": {},
     "outputs": [],
     "prompt_number": 1
    },
    {
     "cell_type": "code",
     "collapsed": false,
     "input": [
      "class binaryTree:\n",
      "    def __init__(self, content, left=None, right=None, parent=None):\n",
      "        self.content = content\n",
      "        self.left = left\n",
      "        self.right = right\n",
      "        self.parent = None\n",
      "        \n",
      "    def __str__(self):\n",
      "        if self.content == None:\n",
      "            return 'None'\n",
      "        return '[' + str(self.content) + \\\n",
      "    ':[' + 'leftChild' + ':' + str(self.left) + ',' \\\n",
      "    'rightChild' + ':' + str(self.right) + ']]'\n",
      "    \n",
      "def make_random_BST(depth=2, l=-10, r=10, parent=None):\n",
      "    if depth<0 or l==r:\n",
      "        return None\n",
      "    mytree = binaryTree(randrange(l, r))\n",
      "    mytree.parent = parent\n",
      "    mytree.left = make_random_BST(depth-1, l, mytree.content, mytree)\n",
      "    mytree.right = make_random_BST(depth-1, mytree.content, r, mytree)\n",
      "    return mytree"
     ],
     "language": "python",
     "metadata": {},
     "outputs": [],
     "prompt_number": 2
    },
    {
     "cell_type": "code",
     "collapsed": false,
     "input": [
      "from random import randrange\n",
      "\n",
      "ttree = make_random_BST(3, 0, 14)\n",
      "print ttree\n",
      "in_order_search(ttree.left.left)"
     ],
     "language": "python",
     "metadata": {},
     "outputs": [
      {
       "output_type": "stream",
       "stream": "stdout",
       "text": [
        "[3:[leftChild:[2:[leftChild:[1:[leftChild:[0:[leftChild:None,rightChild:None]],rightChild:[1:[leftChild:None,rightChild:None]]]],rightChild:[2:[leftChild:None,rightChild:[2:[leftChild:None,rightChild:None]]]]]],rightChild:[13:[leftChild:[6:[leftChild:[4:[leftChild:None,rightChild:None]],rightChild:[9:[leftChild:None,rightChild:None]]]],rightChild:[13:[leftChild:None,rightChild:[13:[leftChild:None,rightChild:None]]]]]]]]\n",
        "1\n",
        "1\n",
        "2\n",
        "2\n",
        "2\n",
        "3\n",
        "4\n",
        "6\n",
        "9\n",
        "13\n",
        "13\n",
        "13\n"
       ]
      }
     ],
     "prompt_number": 8
    },
    {
     "cell_type": "code",
     "collapsed": false,
     "input": [],
     "language": "python",
     "metadata": {},
     "outputs": []
    }
   ],
   "metadata": {}
  }
 ]
}