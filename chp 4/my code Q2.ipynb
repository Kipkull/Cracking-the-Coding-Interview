{
 "metadata": {
  "name": "",
  "signature": "sha256:fb6a7ad72e4dfe1cc390839ab7bb2f6ef0ce17cd28a6ab4424025f43feca32cb"
 },
 "nbformat": 3,
 "nbformat_minor": 0,
 "worksheets": [
  {
   "cells": [
    {
     "cell_type": "code",
     "collapsed": false,
     "input": [
      "class simpleGraph:\n",
      "    def __init__(self, content):\n",
      "        self.content = content\n",
      "        self.neighbour = []\n",
      "        self.pth = []\n",
      "        self.pred = None\n",
      "        \n",
      "    def setPred(self, avert):\n",
      "        self.pred = avert\n",
      "\n",
      "        \n",
      "    def printpth(self):\n",
      "        rowstring = '['\n",
      "        for i in range(len(self.pth)-1, 0, -1):\n",
      "            rowstring = rowstring + self.pth[i] + '-->' \n",
      "        rowstring = rowstring + self.pth[0] + ']'\n",
      "        return rowstring\n",
      "            \n",
      "    def getRoute(self, startVert, targetVert):\n",
      "        cacheVisit = {}\n",
      "        cacheRoute = {}\n",
      "        if self.getPath(startVert, targetVert, cacheVisit, cacheRoute):\n",
      "            self.pth.append(str(startVert.content))\n",
      "            return self.printpth()\n",
      "        return False\n",
      "    \n",
      "    def getPath(self, startVert, targetVert, cache, cache2):\n",
      "        if startVert == targetVert:\n",
      "            return True\n",
      "        if (str(hash(startVert))+','+str(hash(targetVert))) in cache2:\n",
      "            return cache2[(str(hash(startVert))+','+str(hash(targetVert)))]\n",
      "        nodefound = False\n",
      "        for nbr in startVert.neighbour:\n",
      "            if nbr in cache:\n",
      "                continue\n",
      "            cache[nbr] = True\n",
      "            nodefound = self.getPath(nbr, targetVert, cache, cache2) \n",
      "            if nodefound:\n",
      "                self.pth.append(str(nbr.content))\n",
      "                break\n",
      "        cache2[(str(hash(startVert))+','+str(hash(targetVert)))] = nodefound\n",
      "        return nodefound\n",
      "            "
     ],
     "language": "python",
     "metadata": {},
     "outputs": [],
     "prompt_number": 66
    },
    {
     "cell_type": "code",
     "collapsed": false,
     "input": [
      "n1 = simpleGraph(1)\n",
      "n2 = simpleGraph(2)\n",
      "n3 = simpleGraph(3)\n",
      "n4 = simpleGraph(4)\n",
      "n5 = simpleGraph(5)\n",
      "n6 = simpleGraph(6)\n",
      "\n",
      "n1.neighbour.append(n2)\n",
      "n2.neighbour.append(n3)\n",
      "n2.neighbour.append(n4)\n",
      "n4.neighbour.append(n5)\n",
      "n4.neighbour.append(n1)\n",
      "\n",
      "print n1.getRoute(n1, n5)"
     ],
     "language": "python",
     "metadata": {},
     "outputs": [
      {
       "output_type": "stream",
       "stream": "stdout",
       "text": [
        "[1-->2-->4-->5]\n"
       ]
      }
     ],
     "prompt_number": 67
    },
    {
     "cell_type": "code",
     "collapsed": false,
     "input": [
      "\n",
      "def bfs_search(startVert, targetVert):\n",
      "    cacheVisited = set([startVert])\n",
      "    aqueue = [startVert]\n",
      "    nodefound = False\n",
      "    while len(aqueue) > 0 and not nodefound:\n",
      "        avert = aqueue.pop(0)\n",
      "        for nbr in avert.neighbour:      \n",
      "            if nbr not in cacheVisited:\n",
      "                cacheVisited.add(nbr)\n",
      "                aqueue.append(nbr)\n",
      "                nbr.setPred(avert)\n",
      "            if nbr == targetVert:\n",
      "                nodefound = True\n",
      "                \n",
      "def bfs_getRoute(node1):\n",
      "    x = node1\n",
      "    while x.pred != None:\n",
      "        print x.content,\n",
      "        x = x.pred\n",
      "    print x.content\n",
      "    \n",
      "bfs_search(n1, n5)\n",
      "bfs_getRoute(n5)"
     ],
     "language": "python",
     "metadata": {},
     "outputs": [
      {
       "output_type": "stream",
       "stream": "stdout",
       "text": [
        "5 4 2 1\n"
       ]
      }
     ],
     "prompt_number": 70
    }
   ],
   "metadata": {}
  }
 ]
}