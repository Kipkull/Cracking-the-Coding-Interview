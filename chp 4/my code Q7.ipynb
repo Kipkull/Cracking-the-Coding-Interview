{
 "metadata": {
  "name": "",
  "signature": "sha256:95c37e69ada13fde7302369c4b62121fc28c2e8306f612c9664e9f55ef8a7fe0"
 },
 "nbformat": 3,
 "nbformat_minor": 0,
 "worksheets": [
  {
   "cells": [
    {
     "cell_type": "code",
     "collapsed": false,
     "input": [
      "def find_common_ancestor(node1, node2):\n",
      "    if node1 == None or node2 == None:\n",
      "        return False\n",
      "    dp1 = get_depth(node1)\n",
      "    dp2 = get_depth(node2)\n",
      "\n",
      "    found = False\n",
      "    i = min(dp1, dp2)\n",
      "    while i > 0 and not found:\n",
      "        print 'generation:', i,\n",
      "        anct1 = get_ancestor(dp1-i, node1)\n",
      "        anct2 = get_ancestor(dp2-i, node2)\n",
      "        print 'p1:', anct1.content,\n",
      "        print 'p2:', anct2.content\n",
      "        if anct1 == anct2:\n",
      "            found = True\n",
      "        i -= 1\n",
      "    return 'The first common ancestor is note: ' + str(anct1.content) + ' at generation ' + str(i)\n",
      "\n",
      "def get_depth(anode):\n",
      "    depth = 1\n",
      "    while anode.parent != None:\n",
      "        anode = anode.parent\n",
      "        depth += 1\n",
      "    return depth\n",
      "\n",
      "def get_ancestor(up, anode):\n",
      "    while up > 0:\n",
      "        anode =anode.parent\n",
      "        up -=1\n",
      "    return anode\n",
      "    "
     ],
     "language": "python",
     "metadata": {},
     "outputs": [],
     "prompt_number": 62
    },
    {
     "cell_type": "code",
     "collapsed": false,
     "input": [
      "class binaryTree:\n",
      "    def __init__(self, content, left=None, right=None, parent=None):\n",
      "        self.content = content\n",
      "        self.left = left\n",
      "        self.right = right\n",
      "        self.parent = None\n",
      "        \n",
      "    def __str__(self):\n",
      "        if self.content == None:\n",
      "            return 'None'\n",
      "        return '[' + str(self.content) + \\\n",
      "    ':[' + 'leftChild' + ':' + str(self.left) + ',' \\\n",
      "    'rightChild' + ':' + str(self.right) + ']]'\n",
      "    \n",
      "from random import randrange\n",
      "\n",
      "def make_random_BST(depth=2, l=-10, r=10, parent=None):\n",
      "    if depth == 0 or l==r:\n",
      "        return None\n",
      "    mytree = binaryTree(randrange(l, r))\n",
      "    mytree.parent = parent\n",
      "    mytree.left = make_random_BST(depth-1, l, mytree.content, mytree)\n",
      "    mytree.right = make_random_BST(depth-1, mytree.content, r, mytree)\n",
      "    return mytree"
     ],
     "language": "python",
     "metadata": {},
     "outputs": [],
     "prompt_number": 40
    },
    {
     "cell_type": "code",
     "collapsed": false,
     "input": [
      "\n",
      "ttree = make_random_BST(4)\n",
      "print ttree"
     ],
     "language": "python",
     "metadata": {},
     "outputs": [
      {
       "output_type": "stream",
       "stream": "stdout",
       "text": [
        "[3:[leftChild:[-5:[leftChild:[-7:[leftChild:[-9:[leftChild:None,rightChild:None]],rightChild:[-6:[leftChild:None,rightChild:None]]]],rightChild:[0:[leftChild:[-4:[leftChild:None,rightChild:None]],rightChild:[0:[leftChild:None,rightChild:None]]]]]],rightChild:[6:[leftChild:[4:[leftChild:[3:[leftChild:None,rightChild:None]],rightChild:[5:[leftChild:None,rightChild:None]]]],rightChild:[7:[leftChild:[6:[leftChild:None,rightChild:None]],rightChild:[8:[leftChild:None,rightChild:None]]]]]]]]\n"
       ]
      }
     ],
     "prompt_number": 41
    },
    {
     "cell_type": "code",
     "collapsed": false,
     "input": [
      "node1 = ttree.left.left.right\n",
      "node2 = ttree.right.left.right\n",
      "node3 = ttree.right.right.left\n",
      "node4 = ttree.right.right.right\n",
      "node5 = ttree.left.right.right\n",
      "node6 = ttree.right\n",
      "\n",
      "print node1.parent.parent.content\n",
      "print find_common_ancestor(node2, node3)\n"
     ],
     "language": "python",
     "metadata": {},
     "outputs": [
      {
       "output_type": "stream",
       "stream": "stdout",
       "text": [
        "-5\n",
        "generation: 4 p1: 5 p2: 6\n",
        "generation: 3 p1: 4 p2: 7\n",
        "generation: 2 p1: 6 p2: 6\n",
        "The first common ancestor is note: 6 at generation 1\n"
       ]
      }
     ],
     "prompt_number": 63
    },
    {
     "cell_type": "code",
     "collapsed": false,
     "input": [],
     "language": "python",
     "metadata": {},
     "outputs": []
    }
   ],
   "metadata": {}
  }
 ]
}