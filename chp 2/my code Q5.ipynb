{
 "metadata": {
  "name": "",
  "signature": "sha256:6ec4223e8101c35bf612163910b65337ebb7a23fd4447be58810b2ba1ec02c75"
 },
 "nbformat": 3,
 "nbformat_minor": 0,
 "worksheets": [
  {
   "cells": [
    {
     "cell_type": "code",
     "collapsed": false,
     "input": [
      "from classes.LinkedList import *\n",
      "\n",
      "def digiAdd(l1, l2):\n",
      "    nd1 = l1.head\n",
      "    nd2 = l2.head\n",
      "    rstlist = LinkedList()\n",
      "    up = 0\n",
      "    while nd1 != None or nd2 != None or up != 0:\n",
      "        sm = up\n",
      "        if nd1 != None:\n",
      "            sm += nd1.value\n",
      "            nd1 = nd1.next\n",
      "        if nd2 != None:\n",
      "            sm += nd2.value\n",
      "            nd2 = nd2.next\n",
      "            \n",
      "        newnd = sm%10\n",
      "        up = sm//10\n",
      "        rstlist.addNode(newnd)\n",
      "    return rstlist\n",
      "        \n",
      "        \n",
      "    "
     ],
     "language": "python",
     "metadata": {},
     "outputs": [],
     "prompt_number": 12
    },
    {
     "cell_type": "code",
     "collapsed": false,
     "input": [
      "def fwAdd(l1, l2):\n",
      "    l1_len = listlen(l1)\n",
      "    l2_len = listlen(l2)\n",
      "    rstlist = LinkedList()\n",
      "    if l1_len > l2_len:\n",
      "        digidif = l1_len - l2_len\n",
      "        addDigi(l2, digidif)\n",
      "    else:\n",
      "        digidif = l2_len -l1_len\n",
      "        addDigi(l1, digidif)\n",
      "    nd1 = l1.head\n",
      "    nd2 = l2.head\n",
      "    tup = fwAddHelp(nd1, nd2, rstlist)\n",
      "    if tup > 0:\n",
      "        headAdd(rstlist, tup)\n",
      "    return rstlist\n",
      "        \n",
      "        \n",
      "def fwAddHelp(n1, n2, alist):\n",
      "    pup = 0\n",
      "    if n1.next != None and n2.next != None:\n",
      "        pup = fwAddHelp(n1.next, n2.next, alist)\n",
      "    sm = n1.value + n2.value + pup\n",
      "    up = sm//10\n",
      "    sm = sm%10\n",
      "    headAdd(alist, sm)\n",
      "    return up\n",
      "\n",
      "def headAdd(alist, value):\n",
      "    newNode = Node(value)\n",
      "    newNode.next = alist.head\n",
      "    alist.head = newNode\n",
      "    \n",
      "def addDigi(alist, digidif):\n",
      "    for i in range(digidif):\n",
      "        headAdd(alist, 0)\n",
      "\n",
      "def listlen(alist):\n",
      "    lg = 0\n",
      "    anote = alist.head\n",
      "    while anote != None:\n",
      "        lg += 1\n",
      "        anote = anote.next\n",
      "    return lg"
     ],
     "language": "python",
     "metadata": {},
     "outputs": [],
     "prompt_number": 20
    },
    {
     "cell_type": "code",
     "collapsed": false,
     "input": [
      "L1 = randomLinkedList(5,0,9)\n",
      "L2 = randomLinkedList(5,0,9)\n",
      "print L1\n",
      "print L2\n",
      "print \"In reverse order, the sum is: \"\n",
      "print digiAdd(L1, L2)\n",
      "print \"In forward order with iterative implementation, the sum is: \"\n",
      "print fwAdd(L1, L2)\n"
     ],
     "language": "python",
     "metadata": {},
     "outputs": [
      {
       "output_type": "stream",
       "stream": "stdout",
       "text": [
        "LinkedList  [ 7->8->8->8->0 ]\n",
        "LinkedList  [ 9->7->1->3->3 ]\n",
        "In reverse order, the sum is: \n",
        "LinkedList  [ 6->6->0->2->4 ]\n",
        "In forward order with iterative implementation, the sum is: \n",
        "LinkedList  [ 1->7->6->0->1->3 ]\n"
       ]
      }
     ],
     "prompt_number": 23
    }
   ],
   "metadata": {}
  }
 ]
}