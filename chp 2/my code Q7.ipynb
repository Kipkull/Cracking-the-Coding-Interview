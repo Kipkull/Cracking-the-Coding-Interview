{
 "metadata": {
  "name": "",
  "signature": "sha256:620b7f4f47967613e1575272e22e4ae6dc7a7c6528f9b7bca1784173af6d6325"
 },
 "nbformat": 3,
 "nbformat_minor": 0,
 "worksheets": [
  {
   "cells": [
    {
     "cell_type": "code",
     "collapsed": false,
     "input": [
      "from classes.LinkedList import *\n",
      "\n",
      "def checkpalindrome(alist):\n",
      "    lg = listlen(alist)\n",
      "    currNode = alist.head\n",
      "\n",
      "    pairNode, fg = ahelper(currNode, lg)\n",
      "\n",
      "    return fg\n",
      "\n",
      "def ahelper(anode, lg):\n",
      "    if anode == None:\n",
      "        return None, False\n",
      "    if lg == 0:\n",
      "        return anode, True\n",
      "    if lg == 1:\n",
      "        return anode.next, True\n",
      "    pairNode, fg = ahelper(anode.next, lg-2)\n",
      "    if fg == True and pairNode.value == anode.value:\n",
      "        return pairNode.next, True\n",
      "    else:\n",
      "        return pairNode.next, False\n",
      "    \n",
      "def listlen(alist):\n",
      "    lg = 0\n",
      "    anote = alist.head\n",
      "    while anote != None:\n",
      "        lg += 1\n",
      "        anote = anote.next\n",
      "    return lg"
     ],
     "language": "python",
     "metadata": {},
     "outputs": [
      {
       "output_type": "stream",
       "stream": "stdout",
       "text": [
        "\n"
       ]
      }
     ],
     "prompt_number": 16
    },
    {
     "cell_type": "code",
     "collapsed": false,
     "input": [
      "L1 = randomLinkedList(5, 3, 4)\n",
      "print \"L2:\", L1\n",
      "\n",
      "print \"isPalindrome_recu: \", checkpalindrome(L1)\n",
      "L2 = LinkedList()\n",
      "for i in range(1,4):\n",
      "    L2.addNode(i)\n",
      "\n",
      "for i in range(3, 0, -1):\n",
      "    L2.addNode(i)\n",
      "\n",
      "print \"L3:\", L2\n",
      "\n",
      "print \"isPalindrome_recu: \", checkpalindrome(L2)"
     ],
     "language": "python",
     "metadata": {},
     "outputs": [
      {
       "output_type": "stream",
       "stream": "stdout",
       "text": [
        "L2: LinkedList  [ 3->3->3->4->3 ]\n",
        "isPalindrome_recu:  False\n",
        "L3: LinkedList  [ 1->2->3->4->4->3->2->1 ]\n",
        "isPalindrome_recu:  True\n"
       ]
      }
     ],
     "prompt_number": 38
    },
    {
     "cell_type": "code",
     "collapsed": false,
     "input": [],
     "language": "python",
     "metadata": {},
     "outputs": [],
     "prompt_number": 21
    },
    {
     "cell_type": "code",
     "collapsed": false,
     "input": [],
     "language": "python",
     "metadata": {},
     "outputs": []
    }
   ],
   "metadata": {}
  }
 ]
}