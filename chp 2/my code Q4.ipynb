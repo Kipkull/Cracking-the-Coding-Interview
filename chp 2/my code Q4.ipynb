{
 "metadata": {
  "name": "",
  "signature": "sha256:cc30875c6978c96685bf99e3ca52745ab37abbf79a486f9f77207c99d79f275d"
 },
 "nbformat": 3,
 "nbformat_minor": 0,
 "worksheets": [
  {
   "cells": [
    {
     "cell_type": "code",
     "collapsed": false,
     "input": [
      "from classes.LinkedList import *\n",
      "\n",
      "def partition(alist, x):\n",
      "    pivotvalue = x\n",
      "    llist = LinkedList()\n",
      "    rlist = LinkedList()\n",
      "    currNode = alist.head\n",
      "    while currNode != None:\n",
      "        if currNode.value < pivotvalue:\n",
      "            llist.addNode(currNode.value)\n",
      "        else:\n",
      "            rlist.addNode(currNode.value)\n",
      "        currNode = currNode.next       \n",
      "    llist.tail.next = rlist.head\n",
      "    return llist"
     ],
     "language": "python",
     "metadata": {},
     "outputs": [],
     "prompt_number": 4
    },
    {
     "cell_type": "code",
     "collapsed": false,
     "input": [
      "L = randomLinkedList(15, 0, 100)\n",
      "node = L.head.value         # Given access to the 3rd node\n",
      "print L\n",
      "print \"partition the list with value %d\" %(node)\n",
      "newlist = partition(L, node)\n",
      "print newlist"
     ],
     "language": "python",
     "metadata": {},
     "outputs": [
      {
       "output_type": "stream",
       "stream": "stdout",
       "text": [
        "LinkedList  [ 21->26->77->76->75->0->36->14->37->21->81->92->82->5->89 ]\n",
        "partition the list with value 21\n",
        "LinkedList  [ 0->14->5->21->26->77->76->75->36->37->21->81->92->82->89 ]\n"
       ]
      }
     ],
     "prompt_number": 5
    },
    {
     "cell_type": "code",
     "collapsed": false,
     "input": [
      "def partition2(alist, x):\n",
      "    p1 = alist.head\n",
      "    p2 = alist.head.next\n",
      "    while p2 != None:\n",
      "        if p2.value < x:\n",
      "            p1.next = p2.next\n",
      "            p2.next = alist.head\n",
      "            alist.head = p2\n",
      "            p2 = p1.next\n",
      "        else:\n",
      "            p1 = p2\n",
      "            p2 = p2.next\n",
      "            "
     ],
     "language": "python",
     "metadata": {},
     "outputs": [],
     "prompt_number": 6
    },
    {
     "cell_type": "code",
     "collapsed": false,
     "input": [
      "L = randomLinkedList(15, 0, 100)\n",
      "node = L.head.value         # Given access to the 3rd node\n",
      "print L\n",
      "print \"partition the list with value %d\" %(node)\n",
      "partition2(L, node)\n",
      "print L"
     ],
     "language": "python",
     "metadata": {},
     "outputs": [
      {
       "output_type": "stream",
       "stream": "stdout",
       "text": [
        "LinkedList  [ 80->64->89->60->74->92->64->59->25->58->30->98->30->44->59 ]\n",
        "partition the list with value 80\n",
        "LinkedList  [ 59->44->30->30->58->25->59->64->74->60->64->80->89->92->98 ]\n"
       ]
      }
     ],
     "prompt_number": 10
    },
    {
     "cell_type": "code",
     "collapsed": false,
     "input": [],
     "language": "python",
     "metadata": {},
     "outputs": []
    }
   ],
   "metadata": {}
  }
 ]
}