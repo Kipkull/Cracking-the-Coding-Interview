{
 "metadata": {
  "name": "",
  "signature": "sha256:36bef89b27b84a11aa16dc79e0325a32f33a492d455981711f2c0aedb84db4ab"
 },
 "nbformat": 3,
 "nbformat_minor": 0,
 "worksheets": [
  {
   "cells": [
    {
     "cell_type": "code",
     "collapsed": false,
     "input": [
      "from classes.LinkedList import *\n",
      "\n",
      "def nodeDele(linkedlist, anode):\n",
      "    currNode = linkedlist.head\n",
      "    found = False\n",
      "    if currNode == anode:\n",
      "        linkedlist.head = linkelist.head.next\n",
      "        found = True\n",
      "    while currNode != None and not found:\n",
      "        if currNode.next == anode:\n",
      "            currNode.next = currNode.next.next\n",
      "            found = True\n",
      "        currNode = currNode.next"
     ],
     "language": "python",
     "metadata": {},
     "outputs": [],
     "prompt_number": 9
    },
    {
     "cell_type": "code",
     "collapsed": false,
     "input": [
      "L = randomLinkedList(4, 0, 100)\n",
      "node = L.head.next.next.next         # Given access to the 3rd node\n",
      "print L\n",
      "print \"After deleting the node\"\n",
      "nodeDele(L, node)\n",
      "print L"
     ],
     "language": "python",
     "metadata": {},
     "outputs": [
      {
       "output_type": "stream",
       "stream": "stdout",
       "text": [
        "LinkedList  [ 15->36->76->100 ]\n",
        "After deleting the node\n",
        "LinkedList  [ 15->36->76 ]\n"
       ]
      }
     ],
     "prompt_number": 10
    },
    {
     "cell_type": "code",
     "collapsed": false,
     "input": [],
     "language": "python",
     "metadata": {},
     "outputs": []
    }
   ],
   "metadata": {}
  }
 ]
}