{
 "metadata": {
  "name": "",
  "signature": "sha256:feec4ebecc05b8703ce95ffcff45a28689694a78b1a4b6a98f41cb2b2ca2fdf2"
 },
 "nbformat": 3,
 "nbformat_minor": 0,
 "worksheets": [
  {
   "cells": [
    {
     "cell_type": "code",
     "collapsed": false,
     "input": [
      "from classes.LinkedList import *\n",
      "def checkTail(alist):\n",
      "    return alist.tail.next\n"
     ],
     "language": "python",
     "metadata": {},
     "outputs": [],
     "prompt_number": 1
    },
    {
     "cell_type": "code",
     "collapsed": false,
     "input": [
      "def findBeginning(linkedlist):\n",
      "    slow = linkedlist.head\n",
      "    fast = linkedlist.head\n",
      "\n",
      "    # Find meetng point\n",
      "    while (fast != None) and (fast.next != None):\n",
      "        slow = slow.next\n",
      "        fast = fast.next.next\n",
      "        if fast == slow:\n",
      "            break\n",
      "    \n",
      "    # Check whether it is a circular linked list\n",
      "    if fast == None or fast.next == None:\n",
      "        return None\n",
      "\n",
      "    # Move one runner to head. Making them move at same pace, they will meet at the beginning of the loop\n",
      "    fast = linkedlist.head\n",
      "    while fast != slow:\n",
      "        slow = slow.next\n",
      "        fast = fast.next\n",
      "\n",
      "    return fast\n"
     ],
     "language": "python",
     "metadata": {},
     "outputs": [],
     "prompt_number": 3
    },
    {
     "cell_type": "code",
     "collapsed": false,
     "input": [
      "nodes_number = 100\n",
      "nodes_in_loop = 20\n",
      "L = LinkedList()\n",
      "current = L.head\n",
      "store = []                  # store nodes to help creating loop\n",
      "\n",
      "# Create a linked list\n",
      "for i in range(nodes_number):\n",
      "    L.addNode(i)\n",
      "    current = L.head if i==0 else current.next\n",
      "    store.append(current)\n",
      "\n",
      "# Creat loop\n",
      "current.next = None if nodes_in_loop <= 0 else store[nodes_number - nodes_in_loop]\n",
      "\n",
      "beginning = findBeginning(L)\n",
      "print beginning  \n",
      "print checkTail(L)"
     ],
     "language": "python",
     "metadata": {},
     "outputs": [
      {
       "output_type": "stream",
       "stream": "stdout",
       "text": [
        "80\n",
        "80\n"
       ]
      }
     ],
     "prompt_number": 4
    },
    {
     "cell_type": "code",
     "collapsed": false,
     "input": [],
     "language": "python",
     "metadata": {},
     "outputs": []
    }
   ],
   "metadata": {}
  }
 ]
}