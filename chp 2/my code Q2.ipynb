{
 "metadata": {
  "name": "",
  "signature": "sha256:9427ac8c16335234fe6d7a750c206b0b5d5f15204856fcee35a5f0686d1928c4"
 },
 "nbformat": 3,
 "nbformat_minor": 0,
 "worksheets": [
  {
   "cells": [
    {
     "cell_type": "code",
     "collapsed": false,
     "input": [
      "from classes.LinkedList import *\n",
      "\n",
      "def getK(linkedlist, k):\n",
      "    if k <= 0:\n",
      "        return 'invalid k'\n",
      "    rstlist = LinkedList()\n",
      "    if linkedlist.head != None:      \n",
      "        currNode = linkedlist.head\n",
      "        i = 1\n",
      "        while currNode != None:\n",
      "            if i >= k:\n",
      "                rstlist.addNode(currNode.value)   \n",
      "            currNode = currNode.next\n",
      "            i += 1\n",
      "        \n",
      "    return rstlist\n",
      "    "
     ],
     "language": "python",
     "metadata": {},
     "outputs": [],
     "prompt_number": 2
    },
    {
     "cell_type": "code",
     "collapsed": false,
     "input": [
      "L1 = randomLinkedList(9, 2, 10)\n",
      "print L1\n",
      "\n",
      "print getK(L1, 4)"
     ],
     "language": "python",
     "metadata": {},
     "outputs": [
      {
       "output_type": "stream",
       "stream": "stdout",
       "text": [
        "LinkedList  [ 8->7->3->5->10->4->4->4->2 ]\n",
        "LinkedList  [ 5->10->4->4->4->2 ]\n"
       ]
      }
     ],
     "prompt_number": 3
    },
    {
     "cell_type": "code",
     "collapsed": false,
     "input": [
      "#if k = 1, return the last element\n",
      "def kth_to_last(linkedlist, k):\n",
      "    if k <= 0:\n",
      "        return 'invalid value k'\n",
      "    pointer2 = linkedlist.head\n",
      "    for i in range(k-1):\n",
      "        if pointer2.next != None:\n",
      "            pointer2 = pointer2.next\n",
      "        else:\n",
      "            return 'k exceeds the length of the linkedlist'\n",
      "    pointer1 = linkedlist.head\n",
      "    while pointer2.next != None:\n",
      "        pointer2 = pointer2.next\n",
      "        pointer1 = pointer1.next\n",
      "    \n",
      "    return pointer1\n",
      "   \n",
      " \n",
      "\n",
      "#---------------test------------------\n",
      "L = randomLinkedList(8, 0, 100)\n",
      "print L\n",
      "print \"The 3th to last element is\", kth_to_last(L, 3)\n",
      "\n"
     ],
     "language": "python",
     "metadata": {},
     "outputs": [
      {
       "output_type": "stream",
       "stream": "stdout",
       "text": [
        "LinkedList  [ 53->31->24->19->52->60->24->27 ]\n",
        "The 3th to last element is 60\n"
       ]
      }
     ],
     "prompt_number": 6
    },
    {
     "cell_type": "code",
     "collapsed": false,
     "input": [],
     "language": "python",
     "metadata": {},
     "outputs": []
    }
   ],
   "metadata": {}
  }
 ]
}