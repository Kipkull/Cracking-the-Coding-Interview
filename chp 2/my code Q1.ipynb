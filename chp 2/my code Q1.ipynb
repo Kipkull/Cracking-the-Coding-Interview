{
 "metadata": {
  "name": "",
  "signature": "sha256:e344fcf275c5fd0195f492d33a89f55811f1146f532df7752999eff97bb875ac"
 },
 "nbformat": 3,
 "nbformat_minor": 0,
 "worksheets": [
  {
   "cells": [
    {
     "cell_type": "code",
     "collapsed": false,
     "input": [
      "from random import randint\n",
      "\n",
      "class Node:\n",
      "    def __init__(self, value):\n",
      "        self.value = value\n",
      "        self.next = None\n",
      "\n",
      "    def __str__(self):\n",
      "        return str(self.value)\n",
      "\n",
      "class LinkedList:\n",
      "    def __init__(self):\n",
      "        self.head = None\n",
      "        self.tail = None\n",
      "\n",
      "    def addNode(self,value):\n",
      "        node = Node(value)\n",
      "        #if the old list is none, set new node as the first node\n",
      "        if self.head == None:\n",
      "            self.head = node\n",
      "            self.tail = node\n",
      "        else:\n",
      "            self.tail.next = node\n",
      "            self.tail = node\n",
      "\n",
      "    def __str__(self):\n",
      "        if self.head != None:\n",
      "            index = self.head\n",
      "            nodestore = [str(index.value)]\n",
      "            while index.next != None:\n",
      "                index = index.next\n",
      "                nodestore.append(str(index.value))\n",
      "            return \"LinkedList  [ \" + \"->\".join(nodestore) + \" ]\"\n",
      "        return \"LinkedList  []\"\n",
      "\n",
      "\n",
      "    #remove the first node that have the same value as the given node_value\n",
      "    def removeNode(self, node_value):\n",
      "        current = self.head\n",
      "        if current.value == node_value:\n",
      "            self.head = self.head.next\n",
      "        while(current.next != None):\n",
      "            if current.next.value == node_value:\n",
      "                current.next = current.next.next\n",
      "                break\n",
      "            else:\n",
      "                current = current.next\n",
      "\n",
      "\n",
      "def randomLinkedList(length, min, max):\n",
      "    linkedlist = LinkedList()\n",
      "    for i in range(length):\n",
      "        value = randint(min, max)\n",
      "        linkedlist.addNode(value)\n",
      "    return linkedlist\n",
      "\n",
      "\n",
      "\n"
     ],
     "language": "python",
     "metadata": {},
     "outputs": [],
     "prompt_number": 1
    },
    {
     "cell_type": "code",
     "collapsed": false,
     "input": [
      "#from classes.LinkedList import *\n",
      "def deleteDup(linkedlist):\n",
      "    if (linkedlist.head != None):\n",
      "        currentNode = linkedlist.head\n",
      "        dic = {currentNode.value:True}\n",
      "        while currentNode.next != None:\n",
      "            if currentNode.next.value in dic:\n",
      "                currentNode.next = currentNode.next.next\n",
      "            else:\n",
      "                dic[currentNode.next.value] = True\n",
      "                currentNode = currentNode.next\n",
      "            "
     ],
     "language": "python",
     "metadata": {},
     "outputs": [],
     "prompt_number": 6
    },
    {
     "cell_type": "code",
     "collapsed": false,
     "input": [
      "def deleteDup2(linkedlist):\n",
      "    currentNode = linkedlist.head\n",
      "    while currentNode.next != None:\n",
      "        runnerNode = currentNode\n",
      "        while runnerNode.next != None:\n",
      "            if runnerNode.next.value == currentNode.value:\n",
      "                runnerNode.next = runnerNode.next.next\n",
      "            else:\n",
      "                runnerNode = runnerNode.next\n",
      "        currentNode = currentNode.next\n",
      "    "
     ],
     "language": "python",
     "metadata": {},
     "outputs": [],
     "prompt_number": 7
    },
    {
     "cell_type": "code",
     "collapsed": false,
     "input": [
      "L1 = randomLinkedList(9, 3, 7)\n",
      "print L1\n",
      "deleteDup(L1)\n",
      "print L1\n",
      "print\n",
      "L2 = randomLinkedList(9, 3, 7)\n",
      "print L2\n",
      "deleteDup2(L2)\n",
      "print L2"
     ],
     "language": "python",
     "metadata": {},
     "outputs": [
      {
       "output_type": "stream",
       "stream": "stdout",
       "text": [
        "LinkedList  [ 5->5->6->7->4->6->6->6->7 ]\n",
        "LinkedList  [ 5->6->7->4 ]\n",
        "\n",
        "LinkedList  [ 4->7->5->3->5->4->3->5->6 ]\n",
        "LinkedList  [ 4->7->5->3->6 ]\n"
       ]
      }
     ],
     "prompt_number": 8
    },
    {
     "cell_type": "code",
     "collapsed": false,
     "input": [],
     "language": "python",
     "metadata": {},
     "outputs": []
    }
   ],
   "metadata": {}
  }
 ]
}