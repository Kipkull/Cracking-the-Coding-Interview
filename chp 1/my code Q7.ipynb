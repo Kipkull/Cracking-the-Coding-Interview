{
 "metadata": {
  "name": "",
  "signature": "sha256:ef8e3db91d8b4b8ad409e4140f7faa16e81ab001d2c7eb24b31cd6daf1099cc7"
 },
 "nbformat": 3,
 "nbformat_minor": 0,
 "worksheets": [
  {
   "cells": [
    {
     "cell_type": "code",
     "collapsed": false,
     "input": [
      "class matZero:\n",
      "    def __init__(self, amatrix):\n",
      "        self.matrix = amatrix\n",
      "        self.rowdim = len(amatrix)\n",
      "        self.coldim = len(amatrix[0])\n",
      "        \n",
      "    def __str__(self):\n",
      "        rowstring = ''\n",
      "        for row in self.matrix:\n",
      "            rowstring = rowstring + '['\n",
      "            for cell in row:\n",
      "                rowstring = rowstring + ' ' + str(cell)\n",
      "            rowstring = rowstring +']\\n'\n",
      "        return rowstring\n",
      "        \n",
      "    \n",
      "    def turncol(self, m, n):\n",
      "        for rw in range(0, m+1):\n",
      "            self.matrix[rw][n] = 0\n",
      "    def turnrow(self, m, n):\n",
      "        for cl in range(0, n+1):\n",
      "            self.matrix[m][cl] = 0\n",
      "    \n",
      "    def zeroRow(self, rownum):\n",
      "        newrow = [0]*self.coldim\n",
      "        self.matrix[rownum] = newrow\n",
      "        \n",
      "    def zeroCol(self, colnum):\n",
      "        for row in self.matrix:\n",
      "            row[colnum] = 0\n",
      "    \n",
      "    def turnZero(self):\n",
      "        # use either method one or two, not both\n",
      "        rinx = 0\n",
      "        cinx = 0\n",
      "        rzero = set()\n",
      "        czero = set()\n",
      "        while rinx < self.rowdim:\n",
      "            while cinx < self.coldim:\n",
      "                if self.matrix[rinx][cinx] == 0:\n",
      "                    rzero.add(rinx)\n",
      "                    czero.add(cinx)\n",
      "                \"\"\"\" # method one\n",
      "                    self.turncol(rinx, cinx)\n",
      "                    self.turnrow(rinx, cinx)\n",
      "                elif rinx in rzero or cinx in czero:\n",
      "                    self.matrix[rinx][cinx] = 0\n",
      "                \"\"\"\"\n",
      "                cinx += 1\n",
      "            cinx = 0\n",
      "            rinx += 1\n",
      "        # method two\n",
      "        for rw in rzero:\n",
      "            self.zeroRow(rw)\n",
      "        for cl in czero:\n",
      "            self.zeroCol(cl)"
     ],
     "language": "python",
     "metadata": {},
     "outputs": [
      {
       "ename": "SyntaxError",
       "evalue": "EOL while scanning string literal (<ipython-input-37-0a61fd60fab1>, line 48)",
       "output_type": "pyerr",
       "traceback": [
        "\u001b[0;36m  File \u001b[0;32m\"<ipython-input-37-0a61fd60fab1>\"\u001b[0;36m, line \u001b[0;32m48\u001b[0m\n\u001b[0;31m    \"\"\"\"\u001b[0m\n\u001b[0m        \n^\u001b[0m\n\u001b[0;31mSyntaxError\u001b[0m\u001b[0;31m:\u001b[0m EOL while scanning string literal\n"
       ]
      }
     ],
     "prompt_number": 37
    },
    {
     "cell_type": "code",
     "collapsed": false,
     "input": [
      "testmat = [[1,2,3],[4,5,0],[7,8,0],[0,11,12]]\n",
      "mat1 = matZero(testmat)\n",
      "print \"M by N matrix has dimensions \" + str(mat1.rowdim) + \" by \" + str(mat1.coldim)\n",
      "\n",
      "print \"Visual representation of contents:\"\n",
      "print str(mat1)                  \n",
      "\n",
      "\n",
      "mat1.turnZero()\n",
      "\n",
      "print \"Visual representation of contents after zeroing all rows/columns containing a zero:\"\n",
      "print str(mat1)                  \n"
     ],
     "language": "python",
     "metadata": {},
     "outputs": [
      {
       "output_type": "stream",
       "stream": "stdout",
       "text": [
        "M by N matrix has dimensions 4 by 3\n",
        "Visual representation of contents:\n",
        "[ 1 2 3]\n",
        "[ 4 5 0]\n",
        "[ 7 8 0]\n",
        "[ 0 11 12]\n",
        "\n",
        "Visual representation of contents after zeroing all rows/columns containing a zero:\n",
        "[ 0 2 0]\n",
        "[ 0 0 0]\n",
        "[ 0 0 0]\n",
        "[ 0 0 0]\n",
        "\n"
       ]
      }
     ],
     "prompt_number": 38
    },
    {
     "cell_type": "code",
     "collapsed": false,
     "input": [],
     "language": "python",
     "metadata": {},
     "outputs": []
    }
   ],
   "metadata": {}
  }
 ]
}