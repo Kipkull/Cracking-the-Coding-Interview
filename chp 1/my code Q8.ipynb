{
 "metadata": {
  "name": "",
  "signature": "sha256:fe320cef365893244c57abe994673e75d227cee2fe6508340560adab958d5603"
 },
 "nbformat": 3,
 "nbformat_minor": 0,
 "worksheets": [
  {
   "cells": [
    {
     "cell_type": "code",
     "collapsed": false,
     "input": [
      "def isSubstring(s1, s2):\n",
      "    s1 = s1.lower()\n",
      "    s2 = s2.lower()\n",
      "    return s1.find(s2) > -1\n",
      "\n",
      "def isRotate(s1, s2):\n",
      "    if len(s2) != len(s1):\n",
      "        return False\n",
      "    ds1 = s1 + s1\n",
      "    return isSubstring(ds1, s2)\n",
      "\n",
      "# testing\n",
      "if isRotate(\"waterbottle\",\"erbottlewat\"):\n",
      "    print \"Test 1 Passed\"\n",
      "\n",
      "if not isRotate(\"waterbottle\",\"nope\"):\n",
      "    print \"Test 2 Passed\"\n",
      "\n",
      "if not isRotate(\"waterbottlewater\",\"waterbottle\"):\n",
      "    print \"Test 3 Passed\"\n"
     ],
     "language": "python",
     "metadata": {},
     "outputs": [
      {
       "output_type": "stream",
       "stream": "stdout",
       "text": [
        "Test 1 Passed\n",
        "Test 2 Passed\n",
        "Test 3 Passed\n"
       ]
      }
     ],
     "prompt_number": 2
    },
    {
     "cell_type": "code",
     "collapsed": false,
     "input": [],
     "language": "python",
     "metadata": {},
     "outputs": []
    }
   ],
   "metadata": {}
  }
 ]
}