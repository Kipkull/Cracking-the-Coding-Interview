{
 "metadata": {
  "name": "",
  "signature": "sha256:e155c0547d0eba66b43a580dc47ddd073df646fc48e1ab7f773d51a3561a00a5"
 },
 "nbformat": 3,
 "nbformat_minor": 0,
 "worksheets": [
  {
   "cells": [
    {
     "cell_type": "code",
     "collapsed": false,
     "input": [
      "def replacespace(astr):\n",
      "    numspace = astr.count(' ')\n",
      "    bstr = astr.replace(' ', '%20')\n",
      "    astr += ' '*numspace*2\n",
      "    return astr, bstr\n",
      "#testing\n",
      "mystr = 'We are the Champion'\n",
      "print replacespace(mystr)\n"
     ],
     "language": "python",
     "metadata": {},
     "outputs": [
      {
       "output_type": "stream",
       "stream": "stdout",
       "text": [
        "('We are the Champion      ', 'We%20are%20the%20Champion')\n",
        "We are the Championhello\n"
       ]
      }
     ],
     "prompt_number": 11
    },
    {
     "cell_type": "code",
     "collapsed": false,
     "input": [
      "def replaceSpaces(s):\n",
      "    return '%20'.join(s.split())\n",
      "\n",
      "def replace_spaces(string, size):\n",
      "    return string[:size].replace(' ', '%20')\n",
      "\n",
      "if __name__ == '__main__':\n",
      "    words = ( 'hello world    ', '   mr. john  ', '', ' ', )\n",
      "    for w in words:\n",
      "        print('replaceSpaces({}): {}'.format(w, replaceSpaces(w)))\n"
     ],
     "language": "python",
     "metadata": {},
     "outputs": [
      {
       "output_type": "stream",
       "stream": "stdout",
       "text": [
        "replaceSpaces(hello world    ): hello%20world\n",
        "replaceSpaces(   mr. john  ): mr.%20john\n",
        "replaceSpaces(): \n",
        "replaceSpaces( ): \n"
       ]
      }
     ],
     "prompt_number": 12
    },
    {
     "cell_type": "code",
     "collapsed": false,
     "input": [],
     "language": "python",
     "metadata": {},
     "outputs": []
    }
   ],
   "metadata": {}
  }
 ]
}