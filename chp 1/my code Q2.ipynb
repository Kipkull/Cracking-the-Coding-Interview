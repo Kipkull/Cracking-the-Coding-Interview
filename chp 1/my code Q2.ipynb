{
 "metadata": {
  "name": "",
  "signature": "sha256:07643253bf540a94a8ad0ed7e731ba2e63990ddce16bef29ab9d916055f9cab5"
 },
 "nbformat": 3,
 "nbformat_minor": 0,
 "worksheets": [
  {
   "cells": [
    {
     "cell_type": "code",
     "collapsed": false,
     "input": [
      "def strReverse(astr):\n",
      "    lg = len(astr)\n",
      "    ps = lg-1\n",
      "    rst = \"\"\n",
      "    while ps >= 0:\n",
      "        rst += astr[ps]\n",
      "        ps -= 1\n",
      "    return rst"
     ],
     "language": "python",
     "metadata": {},
     "outputs": []
    },
    {
     "cell_type": "code",
     "collapsed": false,
     "input": [
      "def reverseStringRecursive(str1):\n",
      "    if str1 !=\"\":\n",
      "        return str1[-1:] + reverseStringRecursive(str1[:-1])\n",
      "    else:\n",
      "        return \"\"\n",
      "\n",
      "#testing \n",
      "palindrome = \"abcdedcba\"\n",
      "nonpalindrome = \"hello! \"\n",
      "\n",
      "print reverseStringRecursive(palindrome)\n",
      "print reverseStringRecursive(nonpalindrome)\n"
     ],
     "language": "python",
     "metadata": {},
     "outputs": [
      {
       "output_type": "stream",
       "stream": "stdout",
       "text": [
        "abcdedcba\n",
        " !olleh\n"
       ]
      }
     ],
     "prompt_number": 2
    },
    {
     "cell_type": "code",
     "collapsed": false,
     "input": [
      "def revStr(s):\n",
      "    return s[::-1]\n",
      "\n",
      "if __name__ == '__main__':\n",
      "    words = ('mary', 'anna', 'peter')\n",
      "    for w in words:\n",
      "        print 'revStr({}):{}'.format(w, revStr(w))"
     ],
     "language": "python",
     "metadata": {},
     "outputs": [
      {
       "output_type": "stream",
       "stream": "stdout",
       "text": [
        "revStr(mary):yram\n",
        "revStr(anna):anna\n",
        "revStr(peter):retep\n"
       ]
      }
     ],
     "prompt_number": 3
    },
    {
     "cell_type": "code",
     "collapsed": false,
     "input": [],
     "language": "python",
     "metadata": {},
     "outputs": []
    }
   ],
   "metadata": {}
  }
 ]
}