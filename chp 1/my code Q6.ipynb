{
 "metadata": {
  "name": "",
  "signature": "sha256:34fc0d67cb26c93844ab0493639f68616870ae2bacf4b0b636e2bb6feb0b9bdc"
 },
 "nbformat": 3,
 "nbformat_minor": 0,
 "worksheets": [
  {
   "cells": [
    {
     "cell_type": "code",
     "collapsed": false,
     "input": [
      "class MatrixSpin:\n",
      "    def __init__(self, amatrix):\n",
      "        self.matrix = amatrix\n",
      "        self.rowdim = len(amatrix)\n",
      "        self.coldim = len(amatrix[0])\n",
      "        \n",
      "    def __str__(self):\n",
      "        rowstring = ''\n",
      "        for row in self.matrix:\n",
      "            rowstring = rowstring + '['\n",
      "            for cell in row:\n",
      "                rowstring = rowstring + ' ' + str(cell)\n",
      "            rowstring = rowstring +']\\n'\n",
      "        return rowstring\n",
      "    \n",
      "    def rotate90cw(self):\n",
      "        newmatrix = []\n",
      "        for col in range(0, self.coldim):\n",
      "            newmatrix.append([])\n",
      "        print newmatrix\n",
      "        for row in range(0, self.rowdim):\n",
      "            for col in range(0, self.coldim):\n",
      "                newmatrix[col].append(self.matrix[-1-row][col])\n",
      "        self.matrix = newmatrix\n",
      "            "
     ],
     "language": "python",
     "metadata": {},
     "outputs": [],
     "prompt_number": 32
    },
    {
     "cell_type": "code",
     "collapsed": false,
     "input": [
      "#testing\n",
      "        \n",
      "mat1= MatrixSpin([[1,2,3,4],[5,6,7,8],[9,10,11,12],[13,14,15,16],[17,18,19,20]])\n",
      "\n",
      "print \"M by N matrix has dimensions \" + str(mat1.rowdim) + \" by \" + str(mat1.coldim)\n",
      "\n",
      "print \"Visual representation of contents:\"\n",
      "print str(mat1)                  \n",
      "\n",
      "\n",
      "mat1.rotate90cw()\n",
      "\n",
      "print \"Visual representation of contents after rotating 90 degrees clockwise:\"\n",
      "print str(mat1)                  \n"
     ],
     "language": "python",
     "metadata": {},
     "outputs": [
      {
       "output_type": "stream",
       "stream": "stdout",
       "text": [
        "M by N matrix has dimensions 5 by 4\n",
        "Visual representation of contents:\n",
        "[ 1 2 3 4]\n",
        "[ 5 6 7 8]\n",
        "[ 9 10 11 12]\n",
        "[ 13 14 15 16]\n",
        "[ 17 18 19 20]\n",
        "\n",
        "[[], [], [], []]\n",
        "Visual representation of contents after rotating 90 degrees clockwise:\n",
        "[ 17 13 9 5 1]\n",
        "[ 18 14 10 6 2]\n",
        "[ 19 15 11 7 3]\n",
        "[ 20 16 12 8 4]\n",
        "\n"
       ]
      }
     ],
     "prompt_number": 33
    },
    {
     "cell_type": "code",
     "collapsed": false,
     "input": [],
     "language": "python",
     "metadata": {},
     "outputs": []
    }
   ],
   "metadata": {}
  }
 ]
}