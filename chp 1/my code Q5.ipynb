{
 "metadata": {
  "name": "",
  "signature": "sha256:5b82ad2e79f117ce84dddb230066d814a8a09d1494f24ed76af974aaf2e3427d"
 },
 "nbformat": 3,
 "nbformat_minor": 0,
 "worksheets": [
  {
   "cells": [
    {
     "cell_type": "code",
     "collapsed": false,
     "input": [
      "def stringcompress(astr):\n",
      "    rst = []\n",
      "    lg = len(astr)\n",
      "    newchar = ''\n",
      "    \n",
      "    for i in range(0, lg):\n",
      "        if astr[i] != newchar:\n",
      "            newchar = astr[i]\n",
      "            cnt = 1\n",
      "            rst.append(newchar)\n",
      "            rst.append(str(cnt))\n",
      "        else:\n",
      "            cnt += 1\n",
      "            rst[-1] = str(cnt)\n",
      "            \n",
      "    rst = ''.join(rst)\n",
      "    if len(rst) < lg:\n",
      "        return rst\n",
      "    else:\n",
      "        return astr\n",
      "\n",
      "mystr = 'aabbbbccccddeeeaa'\n",
      "print stringcompress(mystr)\n",
      "print stringcompress('aabbccddeeffgg')"
     ],
     "language": "python",
     "metadata": {},
     "outputs": [
      {
       "output_type": "stream",
       "stream": "stdout",
       "text": [
        "a2b4c4d2e3a2\n",
        "aabbccddeeffgg\n"
       ]
      }
     ],
     "prompt_number": 20
    },
    {
     "cell_type": "code",
     "collapsed": false,
     "input": [
      "import itertools\n",
      "\n",
      "def compress(str_):\n",
      "    \"\"\" Using itertools.groupby().\n",
      "\n",
      "    There is a function in the standard library, itertools.groupby() (new in\n",
      "    Python 2.4), that does exactly what we need here: it makes an iterator that\n",
      "    returns consecutive keys and groups from the input iterable, defaulting to\n",
      "    an identity function to compute the key value for each element. Example:\n",
      "\n",
      "    >>> [list(g) for k, g in itertools.groupby('AAAABBBCCD')]\n",
      "    [['A', 'A', 'A', 'A'], ['B', 'B', 'B'], ['C', 'C'], ['D']]\n",
      "\n",
      "    \"\"\"\n",
      "\n",
      "    groups = itertools.groupby(str_)\n",
      "    compressed = ''.join('{0}{1}'.format(k, len(list(g))) for k, g in groups)\n",
      "    if len(compressed) < len(str_):\n",
      "        return compressed\n",
      "    else:\n",
      "        return str_\n",
      "\n",
      "if __name__ == '__main__':\n",
      "    words = ('aabcccccaaa', 'aaabbbbcccccdee', 'abc', 'a', '', ' ', 'aabccdde', 'aab', 'aaabb')\n",
      "    for w in words:\n",
      "        print('compress({}): {}'.format(w, compress(w)))"
     ],
     "language": "python",
     "metadata": {},
     "outputs": [
      {
       "output_type": "stream",
       "stream": "stdout",
       "text": [
        "compress(aabcccccaaa): a2b1c5a3\n",
        "compress(aaabbbbcccccdee): a3b4c5d1e2\n",
        "compress(abc): abc\n",
        "compress(a): a\n",
        "compress(): \n",
        "compress( ):  \n",
        "compress(aabccdde): aabccdde\n",
        "compress(aab): aab\n",
        "compress(aaabb): a3b2\n"
       ]
      }
     ],
     "prompt_number": 15
    },
    {
     "cell_type": "code",
     "collapsed": false,
     "input": [
      "k, g for k, g in words"
     ],
     "language": "python",
     "metadata": {},
     "outputs": [
      {
       "ename": "SyntaxError",
       "evalue": "invalid syntax (<ipython-input-17-c7f0897b5e62>, line 1)",
       "output_type": "pyerr",
       "traceback": [
        "\u001b[0;36m  File \u001b[0;32m\"<ipython-input-17-c7f0897b5e62>\"\u001b[0;36m, line \u001b[0;32m1\u001b[0m\n\u001b[0;31m    k, g for k, g in words\u001b[0m\n\u001b[0m           ^\u001b[0m\n\u001b[0;31mSyntaxError\u001b[0m\u001b[0;31m:\u001b[0m invalid syntax\n"
       ]
      }
     ],
     "prompt_number": 17
    },
    {
     "cell_type": "code",
     "collapsed": false,
     "input": [],
     "language": "python",
     "metadata": {},
     "outputs": []
    }
   ],
   "metadata": {}
  }
 ]
}