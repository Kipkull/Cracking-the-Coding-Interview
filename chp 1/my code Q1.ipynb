{
 "metadata": {
  "name": "",
  "signature": "sha256:a76b1dc358ac0fa0d0d90a152ed5017b0eed58f168fe5cf38977413f0577969b"
 },
 "nbformat": 3,
 "nbformat_minor": 0,
 "worksheets": [
  {
   "cells": [
    {
     "cell_type": "code",
     "collapsed": false,
     "input": [
      "import os\n",
      "os.getcwd()"
     ],
     "language": "python",
     "metadata": {},
     "outputs": [
      {
       "metadata": {},
       "output_type": "pyout",
       "prompt_number": 7,
       "text": [
        "'/Users/GogooFan/Desktop/ctci/python/Chapter 1/Question1_1'"
       ]
      }
     ],
     "prompt_number": 7
    },
    {
     "cell_type": "code",
     "collapsed": false,
     "input": [
      "def uniqtest(astr):\n",
      "    # Determine if str_ has all unique characters \n",
      "    return len(astr) == len(set(astr))\n",
      "\n",
      "print uniqtest(\"ab\")\n",
      "print uniqtest(\"aa\")\n",
      "print uniqtest(\"\")"
     ],
     "language": "python",
     "metadata": {},
     "outputs": [
      {
       "output_type": "stream",
       "stream": "stdout",
       "text": [
        "True\n",
        "False\n",
        "True\n"
       ]
      }
     ],
     "prompt_number": 12
    },
    {
     "cell_type": "code",
     "collapsed": false,
     "input": [
      "def uniqtest_no_structure(astr):\n",
      "    # Without using addtional data structures\n",
      "    allunique = True\n",
      "    i = 0\n",
      "    while i < len(astr) and allunique:\n",
      "        letter = astr[i]\n",
      "        if astr.count(letter) > 1:\n",
      "            allunique = False\n",
      "        i += 1        \n",
      "    return allunique\n",
      "    \n",
      "print uniqtest_no_structure(\"aa\")\n",
      "print uniqtest_no_structure(\"ab\")\n",
      "print uniqtest_no_structure(\"\")"
     ],
     "language": "python",
     "metadata": {},
     "outputs": [
      {
       "output_type": "stream",
       "stream": "stdout",
       "text": [
        "False\n",
        "True\n",
        "True\n"
       ]
      }
     ],
     "prompt_number": 15
    },
    {
     "cell_type": "code",
     "collapsed": false,
     "input": [
      "def alluniq(s):\n",
      "    charsTable = set()\n",
      "    for c in s:\n",
      "        if c in charsTable:\n",
      "            return False\n",
      "        charsTable.add(c)\n",
      "    return True\n",
      "\n",
      "def checkpairs(seq):\n",
      "    n = len(seq)\n",
      "    for i in range(n):\n",
      "        yield seq[i], seq[(i + 1)%n]\n",
      "\n",
      "def alluniq2(s):\n",
      "    srtStr = sorted(s)\n",
      "    for (c1, c2) in pairs(srtStr):\n",
      "        if c1 == c2:\n",
      "            return False\n",
      "    return True\n",
      "\"\"\"\n",
      "\u5728if __name__ == \"__main__\"\uff1a\u4e4b\u540e\u7684\u8bed\u53e5\u4f5c\u4e3a\u6a21\u5757\u88ab\u8c03\u7528\u7684\u65f6\u5019\uff0c\u8bed\u53e5\u4e4b\u540e\u7684\u4ee3\u7801\u4e0d\u6267\u884c\uff1b\u76f4\u63a5\u4f7f\u7528\u7684\u65f6\u5019\uff0c\u8bed\u53e5\u4e4b\u540e\u7684\u4ee3\u7801\u6267\u884c\u3002\n",
      "\u901a\u5e38\uff0c\u6b64\u8bed\u53e5\u7528\u4e8e\u6a21\u5757\u6d4b\u8bd5\u4e2d\u4f7f\u7528\u3002\n",
      "\"\"\"\n",
      "if __name__ == '__main__':\n",
      "    words = ('mary', 'ariadni')\n",
      "    for w in words:\n",
      "        print('alluniq({}): {}'.format(w, alluniq(w)))\n",
      "        print('alluniq2({}): {}'.format(w, alluniq(w)))"
     ],
     "language": "python",
     "metadata": {},
     "outputs": [
      {
       "output_type": "stream",
       "stream": "stdout",
       "text": [
        "alluniq(mary): True\n",
        "alluniq2(mary): True\n",
        "alluniq(ariadni): False\n",
        "alluniq2(ariadni): False\n"
       ]
      }
     ],
     "prompt_number": 17
    },
    {
     "cell_type": "code",
     "collapsed": false,
     "input": [
      "def noDup(astr):\n",
      "    #using a list\n",
      "    #O(n^2)\n",
      "    charlist = []\n",
      "    for char in astr:\n",
      "        #checking if a char in a list is O(n)\n",
      "        if char in charlist:\n",
      "            return False\n",
      "        else:\n",
      "            charlist.append(char)\n",
      "    return True\n",
      "\n",
      "def noDup2(astr):\n",
      "    #another way to use a list\n",
      "    #O(n)\n",
      "    if len(astr) > 256: #assume inputstring is ASCII\n",
      "        return False\n",
      "    else:\n",
      "        charlist = [False] * 256\n",
      "        for char in astr:\n",
      "            if charlist[ord(char)]:\n",
      "                return False\n",
      "            else:\n",
      "                charlist[ord(char)] = True\n",
      "        return True\n",
      "    \n",
      "ded noDupHash(astr):\n",
      "    #using a hash table (here as a dictionary of key/value)\n",
      "    chardict = {}\n",
      "    for char in astr:\n",
      "        #checking if a char in a dict is O(1), however, this is expected to perform worse than using list for small numbers of n\n",
      "        if char in chardict:\n",
      "            return False\n",
      "        else:\n",
      "            chardict[char] = True\n",
      "    return True\n",
      "\n",
      "def noDupBit(astr):\n",
      "    #using a bit vector\n",
      "    checker = 0\n",
      "    for char in astr:\n",
      "        if checker & (1<<ord(char)):\n",
      "            return False\n",
      "        checker |= (1<<ord(char))\n",
      "    return True"
     ],
     "language": "python",
     "metadata": {},
     "outputs": [
      {
       "output_type": "stream",
       "stream": "stdout",
       "text": [
        "122\n"
       ]
      }
     ],
     "prompt_number": 10
    },
    {
     "cell_type": "code",
     "collapsed": false,
     "input": [],
     "language": "python",
     "metadata": {},
     "outputs": []
    }
   ],
   "metadata": {}
  }
 ]
}