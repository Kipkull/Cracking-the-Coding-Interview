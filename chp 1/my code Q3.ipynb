{
 "metadata": {
  "name": "",
  "signature": "sha256:85d6ad6729f80ccc2c11ba36c9dbd8d0843cfe421b1ce54abdee8333fbb50b0d"
 },
 "nbformat": 3,
 "nbformat_minor": 0,
 "worksheets": [
  {
   "cells": [
    {
     "cell_type": "code",
     "collapsed": false,
     "input": [
      "\"my name is Fan\"+\"kaca\".strip()"
     ],
     "language": "python",
     "metadata": {},
     "outputs": [
      {
       "metadata": {},
       "output_type": "pyout",
       "prompt_number": 18,
       "text": [
        "'my name is Fankaca'"
       ]
      }
     ],
     "prompt_number": 18
    },
    {
     "cell_type": "code",
     "collapsed": false,
     "input": [
      "def anagramCheck(astr, bstr):\n",
      "    astr = astr.lower()\n",
      "    bstr = bstr.lower()\n",
      "    charlist = set(astr+bstr)\n",
      "    for char in charlist:\n",
      "        if astr.count(char) != bstr.count(char) and char != ' ':\n",
      "            #print char\n",
      "            return False\n",
      "    return True\n",
      "\n",
      "#testing\n",
      "agrp =(\"avcdec\", \"cCdvae\")\n",
      "bgrp =(\"ask\", \"asdk\")\n",
      "\n",
      "print anagramCheck(agrp[0], agrp[1])\n",
      "print anagramCheck(bgrp[0], bgrp[1])"
     ],
     "language": "python",
     "metadata": {},
     "outputs": [
      {
       "output_type": "stream",
       "stream": "stdout",
       "text": [
        "True\n",
        "d\n",
        "False\n"
       ]
      }
     ],
     "prompt_number": 26
    },
    {
     "cell_type": "code",
     "collapsed": false,
     "input": [
      "def anagram(s1, s2):\n",
      "    s1 = s1.lower()\n",
      "    s2 = s2.lower()\n",
      "    # sort, convert to str and strip\n",
      "    s1 = ''.join(sorted(s1)).strip()\n",
      "    s2 = ''.join(sorted(s2)).strip()\n",
      "    return s1 == s2\n",
      "\n",
      "def anagram2(s1, s2):\n",
      "    from collections import Counter\n",
      "    return Counter(s1) == Counter(s2)\n",
      "\n",
      "if __name__ == '__main__':\n",
      "    words = ( ('So dark the con of man', 'Madonna of The Rocks'),\n",
      "              (' ba ', ' Ab   '),\n",
      "              ('anne', 'annea') )\n",
      "    for w1, w2 in words:\n",
      "        print('My anagram({}, {}): {}'.format(w1, w2, anagramCheck(w1, w2)))\n",
      "        print('anagram({}, {}): {}'.format(w1, w2, anagram(w1, w2)))\n",
      "        print('anagram({}, {}): {}'.format(w1, w2, anagram2(w1, w2)))\n"
     ],
     "language": "python",
     "metadata": {},
     "outputs": [
      {
       "output_type": "stream",
       "stream": "stdout",
       "text": [
        "My anagram(So dark the con of man, Madonna of The Rocks): True\n",
        "anagram(So dark the con of man, Madonna of The Rocks): True\n",
        "anagram(So dark the con of man, Madonna of The Rocks): False\n",
        "My anagram( ba ,  Ab   ): True\n",
        "anagram( ba ,  Ab   ): True\n",
        "anagram( ba ,  Ab   ): False\n",
        "a\n",
        "My anagram(anne, annea): False\n",
        "anagram(anne, annea): False\n",
        "anagram(anne, annea): False\n"
       ]
      }
     ],
     "prompt_number": 27
    }
   ],
   "metadata": {}
  }
 ]
}